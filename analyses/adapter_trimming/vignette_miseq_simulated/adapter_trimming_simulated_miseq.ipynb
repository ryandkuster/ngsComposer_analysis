{
 "cells": [
  {
   "cell_type": "markdown",
   "metadata": {},
   "source": [
    "### ready a directory to run the ngsComposer pipeline"
   ]
  },
  {
   "cell_type": "code",
   "execution_count": 1,
   "metadata": {},
   "outputs": [],
   "source": [
    "!mkdir pipeline"
   ]
  },
  {
   "cell_type": "code",
   "execution_count": 2,
   "metadata": {},
   "outputs": [
    {
     "name": "stdout",
     "output_type": "stream",
     "text": [
      "total 8\r\n",
      "lrwxr-xr-x  1 ryankuster  staff    78B Dec 17 14:24 \u001b[35madapters.R1.txt\u001b[m\u001b[m -> ../../../../resources/adapters/miseq_mwanga/miseq_mwanga_no_RE/adapters.R1.txt\r\n",
      "lrwxr-xr-x  1 ryankuster  staff    78B Dec 17 14:24 \u001b[35madapters.R2.txt\u001b[m\u001b[m -> ../../../../resources/adapters/miseq_mwanga/miseq_mwanga_no_RE/adapters.R2.txt\r\n",
      "-rw-r--r--  1 ryankuster  staff    50B Dec 17 14:24 index.txt\r\n",
      "lrwxr-xr-x  1 ryankuster  staff    73B Dec 17 14:24 \u001b[35mmwanga_barcodes_96_x_96.txt\u001b[m\u001b[m -> ../../../../resources/barcodes/miseq_barcodes/mwanga_barcodes_96_x_96.txt\r\n",
      "lrwxr-xr-x  1 ryankuster  staff    63B Dec 17 14:24 \u001b[35msimulated_R1.fastq\u001b[m\u001b[m -> ../../../../raw_data/simulated_reads/chr1_1M/simulated_R1.fastq\r\n",
      "lrwxr-xr-x  1 ryankuster  staff    63B Dec 17 14:24 \u001b[35msimulated_R2.fastq\u001b[m\u001b[m -> ../../../../raw_data/simulated_reads/chr1_1M/simulated_R2.fastq\r\n"
     ]
    }
   ],
   "source": [
    "!ln -fs ../../../../raw_data/simulated_reads/chr1_1M/simulated_R1.fastq ./pipeline\n",
    "!ln -fs ../../../../raw_data/simulated_reads/chr1_1M/simulated_R2.fastq ./pipeline\n",
    "!ln -fs ../../../../resources/barcodes/miseq_barcodes/mwanga_barcodes_96_x_96.txt ./pipeline\n",
    "!ln -fs ../../../../resources/adapters/miseq_mwanga/miseq_mwanga_no_RE/adapters.R1.txt ./pipeline\n",
    "!ln -fs ../../../../resources/adapters/miseq_mwanga/miseq_mwanga_no_RE/adapters.R2.txt ./pipeline\n",
    "!echo 'simulated_R1.fastq    mwanga_barcodes_96_x_96.txt' > ./pipeline/index.txt\n",
    "\n",
    "!ls -lh ./pipeline/"
   ]
  },
  {
   "cell_type": "markdown",
   "metadata": {},
   "source": [
    "### prepare configuration file for ngsComposer"
   ]
  },
  {
   "cell_type": "code",
   "execution_count": 3,
   "metadata": {},
   "outputs": [
    {
     "name": "stdout",
     "output_type": "stream",
     "text": [
      "paired = True\r\n",
      "initial_qc = False\r\n",
      "front_trim = 6\r\n",
      "mismatch = 1\r\n",
      "R1_bases_ls = ['TGCAT']\r\n",
      "R2_bases_ls = ['CATG']\r\n",
      "adapter_match = 12\r\n",
      "compress = False\r\n"
     ]
    }
   ],
   "source": [
    "!echo 'paired = True' > ./pipeline/conf.py\n",
    "!echo 'initial_qc = False' >> ./pipeline/conf.py\n",
    "!echo 'front_trim = 6' >> ./pipeline/conf.py\n",
    "!echo 'mismatch = 1' >> ./pipeline/conf.py\n",
    "!echo $'R1_bases_ls = [\\'TGCAT\\']' >> ./pipeline/conf.py\n",
    "!echo $'R2_bases_ls = [\\'CATG\\']' >> ./pipeline/conf.py\n",
    "!echo 'adapter_match = 12' >> ./pipeline/conf.py\n",
    "!echo 'compress = False' >> ./pipeline/conf.py\n",
    "\n",
    "!head ./pipeline/conf.py"
   ]
  },
  {
   "cell_type": "markdown",
   "metadata": {},
   "source": [
    "### run ngsComposer"
   ]
  },
  {
   "cell_type": "code",
   "execution_count": 4,
   "metadata": {
    "scrolled": false
   },
   "outputs": [
    {
     "name": "stdout",
     "output_type": "stream",
     "text": [
      "redundant R1 barcodes detected in /Users/ryankuster/github/ngsComposer_analysis/analyses/adapter_trimming/vignette_miseq_simulated/pipeline/mwanga_barcodes_96_x_96.txt\n",
      "redundant R2 barcodes detected in /Users/ryankuster/github/ngsComposer_analysis/analyses/adapter_trimming/vignette_miseq_simulated/pipeline/mwanga_barcodes_96_x_96.txt\n",
      "\n",
      "##################################################\n",
      "               \u001b[94manemone  - demultiplexing\u001b[0m\n",
      "##################################################\n",
      "redundant R1 barcodes detected\n",
      "redundant R2 barcodes detected\n",
      "\n",
      "##################################################\n",
      "               \u001b[94mrotifer  - motif detection\u001b[0m\n",
      "##################################################\n",
      "\n",
      "##################################################\n",
      "               \u001b[94mporifera - adapter removal\u001b[0m\n",
      "##################################################\n",
      "\n",
      "ngscomposer version 0.4.8\n",
      "see https://github.com/ryandkuster/ngscomposer/releases for newest release info\n",
      "\n",
      "start 2020-12-17 14:24:29\n",
      "end   2020-12-17 14:29:09\n",
      "\n",
      "paired = True\n",
      "procs = 1\n",
      "alt_dir = False\n",
      "walkaway = True\n",
      "rm_transit = True\n",
      "initial_qc = False\n",
      "all_qc = False\n",
      "front_trim = 6\n",
      "bcs_index = /Users/ryankuster/github/ngsComposer_analysis/analyses/adapter_trimming/vignette_miseq_simulated/pipeline/index.txt\n",
      "mismatch = 1\n",
      "R1_bases_ls = ['TGCAT']\n",
      "R2_bases_ls = ['CATG']\n",
      "non_genomic = False\n",
      "end_score = False\n",
      "window = False\n",
      "min_len = 1\n",
      "R1 searched for: /Users/ryankuster/github/ngsComposer_analysis/analyses/adapter_trimming/vignette_miseq_simulated/pipeline/adapters.R2.txt\n",
      "R2 searched for: /Users/ryankuster/github/ngsComposer_analysis/analyses/adapter_trimming/vignette_miseq_simulated/pipeline/adapters.R1.txt\n",
      "adapter_match = 12\n",
      "q_min = False\n",
      "q_percent = False\n",
      "phred64 = False\n",
      "compress = False\n",
      "\n",
      "thanks for using ngscomposer!\n"
     ]
    }
   ],
   "source": [
    "!python3 /Users/ryankuster/github/ngscomposer/composer.py -i ./pipeline"
   ]
  },
  {
   "cell_type": "code",
   "execution_count": 5,
   "metadata": {},
   "outputs": [],
   "source": [
    "!cat ./pipeline/2_adapted/paired/*R1.fastq > ./combined.R1.fastq\n",
    "!cat ./pipeline/2_adapted/paired/*R2.fastq > ./combined.R2.fastq"
   ]
  },
  {
   "cell_type": "code",
   "execution_count": 6,
   "metadata": {},
   "outputs": [
    {
     "name": "stdout",
     "output_type": "stream",
     "text": [
      "total 2165264\r\n",
      "-rw-r--r--   1 ryankuster  staff   8.0K Dec 17 14:29 adapter_trimming_simulated_miseq.ipynb\r\n",
      "-rw-r--r--   1 ryankuster  staff   527M Dec 17 14:29 combined.R1.fastq\r\n",
      "-rw-r--r--   1 ryankuster  staff   527M Dec 17 14:29 combined.R2.fastq\r\n",
      "drwxr-xr-x  11 ryankuster  staff   352B Dec 17 14:29 \u001b[1m\u001b[36mpipeline\u001b[m\u001b[m\r\n"
     ]
    }
   ],
   "source": [
    "!ls -lh"
   ]
  },
  {
   "cell_type": "code",
   "execution_count": 7,
   "metadata": {},
   "outputs": [
    {
     "name": "stdout",
     "output_type": "stream",
     "text": [
      "[1] \"/Users/ryankuster/github/ngsComposer_analysis/analyses/adapter_trimming/vignette_miseq_simulated/combined.R1.fastq_readcounts.csv\"\n",
      "Warning messages:\n",
      "1: Use of `data$read_length` is discouraged. Use `read_length` instead. \n",
      "2: Use of `data$count` is discouraged. Use `count` instead. \n"
     ]
    }
   ],
   "source": [
    "!python3 ../scripts/read_lengths.py combined.R1.fastq combined.R1 3"
   ]
  },
  {
   "cell_type": "markdown",
   "metadata": {},
   "source": [
    "![hist](combined.R1_hist.png)"
   ]
  },
  {
   "cell_type": "code",
   "execution_count": 8,
   "metadata": {},
   "outputs": [],
   "source": [
    "!ln -fs ../../../raw_data/simulated_reads/chr1_1M/sampled_df.csv ./"
   ]
  },
  {
   "cell_type": "code",
   "execution_count": 9,
   "metadata": {},
   "outputs": [
    {
     "data": {
      "text/html": [
       "<div>\n",
       "<style scoped>\n",
       "    .dataframe tbody tr th:only-of-type {\n",
       "        vertical-align: middle;\n",
       "    }\n",
       "\n",
       "    .dataframe tbody tr th {\n",
       "        vertical-align: top;\n",
       "    }\n",
       "\n",
       "    .dataframe thead th {\n",
       "        text-align: right;\n",
       "    }\n",
       "</style>\n",
       "<table border=\"1\" class=\"dataframe\">\n",
       "  <thead>\n",
       "    <tr style=\"text-align: right;\">\n",
       "      <th></th>\n",
       "      <th>Unnamed: 0</th>\n",
       "      <th>sequence</th>\n",
       "      <th>r1_id</th>\n",
       "      <th>r2_id</th>\n",
       "      <th>length</th>\n",
       "      <th>fragment_length</th>\n",
       "      <th>counts</th>\n",
       "    </tr>\n",
       "  </thead>\n",
       "  <tbody>\n",
       "    <tr>\n",
       "      <th>0</th>\n",
       "      <td>0</td>\n",
       "      <td>ACACTCTTTCCCTACACGACGCTCTTCCGATCTAGTCCTGTCGATG...</td>\n",
       "      <td>GTCGATG</td>\n",
       "      <td>AAGGTCG</td>\n",
       "      <td>102</td>\n",
       "      <td>1</td>\n",
       "      <td>4</td>\n",
       "    </tr>\n",
       "    <tr>\n",
       "      <th>1</th>\n",
       "      <td>1</td>\n",
       "      <td>ACACTCTTTCCCTACACGACGCTCTTCCGATCTCCAAGTCTTCCAG...</td>\n",
       "      <td>CTTCCAG</td>\n",
       "      <td>TGCCAAT</td>\n",
       "      <td>102</td>\n",
       "      <td>1</td>\n",
       "      <td>5</td>\n",
       "    </tr>\n",
       "    <tr>\n",
       "      <th>2</th>\n",
       "      <td>2</td>\n",
       "      <td>ACACTCTTTCCCTACACGACGCTCTTCCGATCTTAGTCGGCTTATG...</td>\n",
       "      <td>GCTTATG</td>\n",
       "      <td>GCTTATG</td>\n",
       "      <td>102</td>\n",
       "      <td>1</td>\n",
       "      <td>6</td>\n",
       "    </tr>\n",
       "    <tr>\n",
       "      <th>3</th>\n",
       "      <td>3</td>\n",
       "      <td>ACACTCTTTCCCTACACGACGCTCTTCCGATCTGAACAGGTTCTCG...</td>\n",
       "      <td>GTTCTCG</td>\n",
       "      <td>CTGGTTG</td>\n",
       "      <td>102</td>\n",
       "      <td>1</td>\n",
       "      <td>4</td>\n",
       "    </tr>\n",
       "    <tr>\n",
       "      <th>4</th>\n",
       "      <td>4</td>\n",
       "      <td>ACACTCTTTCCCTACACGACGCTCTTCCGATCTGAACAGGTTCTCG...</td>\n",
       "      <td>GTTCTCG</td>\n",
       "      <td>GCTTATG</td>\n",
       "      <td>102</td>\n",
       "      <td>1</td>\n",
       "      <td>7</td>\n",
       "    </tr>\n",
       "  </tbody>\n",
       "</table>\n",
       "</div>"
      ],
      "text/plain": [
       "   Unnamed: 0                                           sequence    r1_id  \\\n",
       "0           0  ACACTCTTTCCCTACACGACGCTCTTCCGATCTAGTCCTGTCGATG...  GTCGATG   \n",
       "1           1  ACACTCTTTCCCTACACGACGCTCTTCCGATCTCCAAGTCTTCCAG...  CTTCCAG   \n",
       "2           2  ACACTCTTTCCCTACACGACGCTCTTCCGATCTTAGTCGGCTTATG...  GCTTATG   \n",
       "3           3  ACACTCTTTCCCTACACGACGCTCTTCCGATCTGAACAGGTTCTCG...  GTTCTCG   \n",
       "4           4  ACACTCTTTCCCTACACGACGCTCTTCCGATCTGAACAGGTTCTCG...  GTTCTCG   \n",
       "\n",
       "     r2_id  length  fragment_length  counts  \n",
       "0  AAGGTCG     102                1       4  \n",
       "1  TGCCAAT     102                1       5  \n",
       "2  GCTTATG     102                1       6  \n",
       "3  CTGGTTG     102                1       4  \n",
       "4  GCTTATG     102                1       7  "
      ]
     },
     "execution_count": 9,
     "metadata": {},
     "output_type": "execute_result"
    }
   ],
   "source": [
    "import pandas as pd\n",
    "\n",
    "df = pd.read_csv('sampled_df.csv')\n",
    "df.head()"
   ]
  },
  {
   "cell_type": "code",
   "execution_count": 10,
   "metadata": {},
   "outputs": [],
   "source": [
    "read_dist = []\n",
    "\n",
    "for idx, row in df.iterrows():\n",
    "    read_dist += [row[5] for i in range(row[6])]\n",
    "    \n",
    "read_dist_df = pd.DataFrame(read_dist)"
   ]
  },
  {
   "cell_type": "code",
   "execution_count": 11,
   "metadata": {
    "scrolled": true
   },
   "outputs": [
    {
     "data": {
      "text/plain": [
       "array([[<AxesSubplot:title={'center':'0'}>]], dtype=object)"
      ]
     },
     "execution_count": 11,
     "metadata": {},
     "output_type": "execute_result"
    },
    {
     "data": {
      "image/png": "[encoded data removed]",
      "text/plain": [
       "<Figure size 432x288 with 1 Axes>"
      ]
     },
     "metadata": {
      "needs_background": "light"
     },
     "output_type": "display_data"
    }
   ],
   "source": [
    "read_dist_df.hist(bins = 100)"
   ]
  },
  {
   "cell_type": "code",
   "execution_count": 12,
   "metadata": {},
   "outputs": [
    {
     "name": "stdout",
     "output_type": "stream",
     "text": [
      "count    36332.000000\r\n",
      "mean         5.710613\r\n",
      "std          4.153410\r\n",
      "min          1.000000\r\n",
      "25%          2.000000\r\n",
      "50%          5.000000\r\n",
      "75%          9.000000\r\n",
      "max        177.000000\r\n",
      "Name: o_minus_e, dtype: float64\r\n"
     ]
    }
   ],
   "source": [
    "!python3 ../scripts/check_simulated_lengths.py combined.R1.fastq 8"
   ]
  }
 ],
 "metadata": {
  "kernelspec": {
   "display_name": "Python 3",
   "language": "python",
   "name": "python3"
  },
  "language_info": {
   "codemirror_mode": {
    "name": "ipython",
    "version": 3
   },
   "file_extension": ".py",
   "mimetype": "text/x-python",
   "name": "python",
   "nbconvert_exporter": "python",
   "pygments_lexer": "ipython3",
   "version": "3.8.6"
  }
 },
 "nbformat": 4,
 "nbformat_minor": 4
}
