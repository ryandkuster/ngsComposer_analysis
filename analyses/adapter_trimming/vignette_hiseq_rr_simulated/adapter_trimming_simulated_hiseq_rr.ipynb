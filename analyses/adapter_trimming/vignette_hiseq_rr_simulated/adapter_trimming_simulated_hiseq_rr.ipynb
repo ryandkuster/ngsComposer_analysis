{
 "cells": [
  {
   "cell_type": "markdown",
   "metadata": {},
   "source": [
    "### ready a directory to run the ngsComposer pipeline"
   ]
  },
  {
   "cell_type": "code",
   "execution_count": 1,
   "metadata": {},
   "outputs": [],
   "source": [
    "!mkdir pipeline"
   ]
  },
  {
   "cell_type": "code",
   "execution_count": 2,
   "metadata": {},
   "outputs": [
    {
     "name": "stdout",
     "output_type": "stream",
     "text": [
      "total 8\r\n",
      "lrwxr-xr-x  1 ryankuster  staff    78B Jan 14 10:16 \u001b[35madapters.R1.txt\u001b[m\u001b[m -> ../../../../resources/adapters/miseq_mwanga/miseq_mwanga_no_RE/adapters.R1.txt\r\n",
      "lrwxr-xr-x  1 ryankuster  staff    78B Jan 14 10:16 \u001b[35madapters.R2.txt\u001b[m\u001b[m -> ../../../../resources/adapters/miseq_mwanga/miseq_mwanga_no_RE/adapters.R2.txt\r\n",
      "-rw-r--r--  1 ryankuster  staff    50B Jan 14 10:16 index.txt\r\n",
      "lrwxr-xr-x  1 ryankuster  staff    73B Jan 14 10:16 \u001b[35mmwanga_barcodes_96_x_96.txt\u001b[m\u001b[m -> ../../../../resources/barcodes/miseq_barcodes/mwanga_barcodes_96_x_96.txt\r\n",
      "lrwxr-xr-x  1 ryankuster  staff    86B Jan 14 10:16 \u001b[35msimulated_R1.fastq\u001b[m\u001b[m -> ../../../../raw_data/simulated_reads/chr1_1M_hiseq_rr_score_samples/simulated_R1.fastq\r\n",
      "lrwxr-xr-x  1 ryankuster  staff    86B Jan 14 10:16 \u001b[35msimulated_R2.fastq\u001b[m\u001b[m -> ../../../../raw_data/simulated_reads/chr1_1M_hiseq_rr_score_samples/simulated_R2.fastq\r\n"
     ]
    }
   ],
   "source": [
    "!ln -fs ../../../../raw_data/simulated_reads/chr1_1M_hiseq_rr_score_samples/simulated_R1.fastq ./pipeline\n",
    "!ln -fs ../../../../raw_data/simulated_reads/chr1_1M_hiseq_rr_score_samples/simulated_R2.fastq ./pipeline\n",
    "!ln -fs ../../../../resources/barcodes/miseq_barcodes/mwanga_barcodes_96_x_96.txt ./pipeline\n",
    "!ln -fs ../../../../resources/adapters/miseq_mwanga/miseq_mwanga_no_RE/adapters.R1.txt ./pipeline\n",
    "!ln -fs ../../../../resources/adapters/miseq_mwanga/miseq_mwanga_no_RE/adapters.R2.txt ./pipeline\n",
    "!echo 'simulated_R1.fastq    mwanga_barcodes_96_x_96.txt' > ./pipeline/index.txt\n",
    "\n",
    "!ls -lh ./pipeline/"
   ]
  },
  {
   "cell_type": "markdown",
   "metadata": {},
   "source": [
    "### prepare configuration file for ngsComposer"
   ]
  },
  {
   "cell_type": "code",
   "execution_count": 3,
   "metadata": {},
   "outputs": [
    {
     "name": "stdout",
     "output_type": "stream",
     "text": [
      "paired = True\r\n",
      "initial_qc = False\r\n",
      "front_trim = 6\r\n",
      "mismatch = 1\r\n",
      "adapter_match = 12\r\n",
      "min_len = 0\r\n",
      "compress = False\r\n",
      "rm_transit = False\r\n"
     ]
    }
   ],
   "source": [
    "!echo 'paired = True' > ./pipeline/conf.py\n",
    "!echo 'initial_qc = False' >> ./pipeline/conf.py\n",
    "!echo 'front_trim = 6' >> ./pipeline/conf.py\n",
    "!echo 'mismatch = 1' >> ./pipeline/conf.py\n",
    "!echo 'adapter_match = 12' >> ./pipeline/conf.py\n",
    "!echo 'min_len = 0' >> ./pipeline/conf.py\n",
    "!echo 'compress = False' >> ./pipeline/conf.py\n",
    "!echo 'rm_transit = False' >> ./pipeline/conf.py\n",
    "\n",
    "!head ./pipeline/conf.py"
   ]
  },
  {
   "cell_type": "markdown",
   "metadata": {},
   "source": [
    "### run ngsComposer (version 0.4.8, commit 'b1ce4a2')"
   ]
  },
  {
   "cell_type": "code",
   "execution_count": 4,
   "metadata": {
    "scrolled": false
   },
   "outputs": [
    {
     "name": "stdout",
     "output_type": "stream",
     "text": [
      "redundant R1 barcodes detected in /Users/ryankuster/github/ngsComposer_analysis/analyses/adapter_trimming/vignette_hiseq_rr_simulated/pipeline/mwanga_barcodes_96_x_96.txt\n",
      "redundant R2 barcodes detected in /Users/ryankuster/github/ngsComposer_analysis/analyses/adapter_trimming/vignette_hiseq_rr_simulated/pipeline/mwanga_barcodes_96_x_96.txt\n",
      "\n",
      "##################################################\n",
      "               \u001b[94manemone  - demultiplexing\u001b[0m\n",
      "##################################################\n",
      "redundant R1 barcodes detected\n",
      "redundant R2 barcodes detected\n",
      "\n",
      "##################################################\n",
      "               \u001b[94mporifera - adapter removal\u001b[0m\n",
      "##################################################\n",
      "\n",
      "ngscomposer version 0.4.8\n",
      "see https://github.com/ryandkuster/ngscomposer/releases for newest release info\n",
      "\n",
      "start 2021-01-14 10:17:27\n",
      "end   2021-01-14 10:20:51\n",
      "\n",
      "paired = True\n",
      "procs = 1\n",
      "alt_dir = False\n",
      "walkaway = True\n",
      "rm_transit = False\n",
      "initial_qc = False\n",
      "all_qc = False\n",
      "front_trim = 6\n",
      "bcs_index = /Users/ryankuster/github/ngsComposer_analysis/analyses/adapter_trimming/vignette_hiseq_rr_simulated/pipeline/index.txt\n",
      "mismatch = 1\n",
      "R1_bases_ls = []\n",
      "R2_bases_ls = []\n",
      "non_genomic = False\n",
      "end_score = False\n",
      "window = False\n",
      "min_len = 0\n",
      "R1 searched for: /Users/ryankuster/github/ngsComposer_analysis/analyses/adapter_trimming/vignette_hiseq_rr_simulated/pipeline/adapters.R1.txt\n",
      "R2 searched for: /Users/ryankuster/github/ngsComposer_analysis/analyses/adapter_trimming/vignette_hiseq_rr_simulated/pipeline/adapters.R2.txt\n",
      "adapter_match = 12\n",
      "q_min = False\n",
      "q_percent = False\n",
      "phred64 = False\n",
      "compress = False\n",
      "\n",
      "thanks for using ngscomposer!\n",
      "python3 /Users/ryankuster/github/ngscomposer/composer.py -i ./pipeline  123.64s user 45.63s system 82% cpu 3:24.25 total\n"
     ]
    }
   ],
   "source": [
    "!time python3 /Users/ryankuster/github/ngscomposer/composer.py -i ./pipeline"
   ]
  },
  {
   "cell_type": "markdown",
   "metadata": {},
   "source": [
    "### concatenate all the adapter-trimmed reads and plot the distribution of read lengths  \n",
    "the majority of reads will be full length (no adapter) and due to the variable length barcodes incorporated into these particular adapters, will have 3 possible lengths, therefore use '3' to omit these from the histogram when using the read_lengths.py script"
   ]
  },
  {
   "cell_type": "code",
   "execution_count": 5,
   "metadata": {},
   "outputs": [],
   "source": [
    "!cat ./pipeline/0_demultiplexed/*R1.fastq > ./combined.R1.fastq\n",
    "!cat ./pipeline/0_demultiplexed/*R2.fastq > ./combined.R2.fastq\n",
    "\n",
    "!cat ./pipeline/1_adapted/paired/*R1.fastq > ./adapted.combined.R1.fastq\n",
    "!cat ./pipeline/1_adapted/paired/*R2.fastq > ./adapted.combined.R2.fastq"
   ]
  },
  {
   "cell_type": "code",
   "execution_count": 6,
   "metadata": {},
   "outputs": [
    {
     "name": "stdout",
     "output_type": "stream",
     "text": [
      "total 4466032\r\n",
      "-rw-r--r--   1 ryankuster  staff   526M Jan 14 10:25 adapted.combined.R1.fastq\r\n",
      "-rw-r--r--   1 ryankuster  staff   526M Jan 14 10:25 adapted.combined.R2.fastq\r\n",
      "-rw-r--r--   1 ryankuster  staff    11K Jan 14 10:21 adapter_trimming_simulated_hiseq_rr.ipynb\r\n",
      "-rw-r--r--   1 ryankuster  staff   552M Jan 14 10:24 combined.R1.fastq\r\n",
      "-rw-r--r--   1 ryankuster  staff   552M Jan 14 10:24 combined.R2.fastq\r\n",
      "drwxr-xr-x  12 ryankuster  staff   384B Jan 14 10:20 \u001b[1m\u001b[36mpipeline\u001b[m\u001b[m\r\n"
     ]
    }
   ],
   "source": [
    "!ls -lh"
   ]
  },
  {
   "cell_type": "code",
   "execution_count": 7,
   "metadata": {},
   "outputs": [
    {
     "name": "stdout",
     "output_type": "stream",
     "text": [
      "[1] \"/Users/ryankuster/github/ngsComposer_analysis/analyses/adapter_trimming/vignette_hiseq_rr_simulated/adapted.combined.R1.fastq_readcounts.csv\"\n",
      "Warning messages:\n",
      "1: Use of `data$read_length` is discouraged. Use `read_length` instead. \n",
      "2: Use of `data$count` is discouraged. Use `count` instead. \n"
     ]
    }
   ],
   "source": [
    "!python3 ../scripts/read_lengths.py adapted.combined.R1.fastq adapted.combined.R1 3"
   ]
  },
  {
   "cell_type": "markdown",
   "metadata": {},
   "source": [
    "![hist](adapted.combined.R1_hist.png)"
   ]
  },
  {
   "cell_type": "markdown",
   "metadata": {},
   "source": [
    "### import the csv of reads that were sampled (n=counts) times each to create a histogram of the original read lengths"
   ]
  },
  {
   "cell_type": "code",
   "execution_count": 8,
   "metadata": {},
   "outputs": [],
   "source": [
    "!ln -fs ../../../raw_data/simulated_reads/chr1_1M_hiseq_rr_score_samples/sampled_df.csv ./"
   ]
  },
  {
   "cell_type": "code",
   "execution_count": 9,
   "metadata": {},
   "outputs": [
    {
     "data": {
      "text/plain": [
       "array([[<AxesSubplot:title={'center':'0'}>]], dtype=object)"
      ]
     },
     "execution_count": 9,
     "metadata": {},
     "output_type": "execute_result"
    },
    {
     "data": {
      "image/png": "[encoded data removed]",
      "text/plain": [
       "<Figure size 432x288 with 1 Axes>"
      ]
     },
     "metadata": {
      "needs_background": "light"
     },
     "output_type": "display_data"
    }
   ],
   "source": [
    "import pandas as pd\n",
    "\n",
    "df = pd.read_csv('sampled_df.csv')\n",
    "\n",
    "read_dist = []\n",
    "\n",
    "for idx, row in df.iterrows():\n",
    "    read_dist += [row[5] for i in range(row[6])]\n",
    "    \n",
    "read_dist_df = pd.DataFrame(read_dist)\n",
    "binrange = max(read_dist) - min(read_dist)\n",
    "read_dist_df.hist(bins=binrange)"
   ]
  },
  {
   "cell_type": "markdown",
   "metadata": {},
   "source": [
    "### get summary statistics on the difference between observed and expected read lengths after adapters have been trimmed  \n",
    "the '8' used below offsets the 'TGCA' and 'CATG' which remain after removing the adapters (which in this case don't include the RE motifs)"
   ]
  },
  {
   "cell_type": "code",
   "execution_count": 10,
   "metadata": {
    "scrolled": false
   },
   "outputs": [
    {
     "name": "stdout",
     "output_type": "stream",
     "text": [
      "all reads:\n",
      "count    952102.000000\n",
      "mean          0.226413\n",
      "std           1.427725\n",
      "min         -32.000000\n",
      "25%           0.000000\n",
      "50%           0.000000\n",
      "75%           0.000000\n",
      "max         135.000000\n",
      "Name: o_minus_e, dtype: float64\n",
      "\n",
      "reads containing adapters:\n",
      "0    716382\n",
      "1    235720\n",
      "Name: contaminated, dtype: int64\n",
      "\n",
      "reads containing missed adapters:\n",
      "0    918920\n",
      "1     33182\n",
      "Name: missed_id, dtype: int64\n",
      "\n",
      "reads containing falsely-identified adapters:\n",
      "0    952098\n",
      "1         4\n",
      "Name: false_id, dtype: int64\n",
      "\n",
      "misidentified reads:\n",
      "count    33186.000000\n",
      "mean         6.495751\n",
      "std          4.213998\n",
      "min        -32.000000\n",
      "25%          3.000000\n",
      "50%          6.000000\n",
      "75%          9.000000\n",
      "max        135.000000\n",
      "Name: o_minus_e, dtype: float64\n"
     ]
    }
   ],
   "source": [
    "!python3 ../scripts/check_simulated_lengths.py adapted.combined.R1.fastq combined.R1.fastq 8 porifera_R1"
   ]
  },
  {
   "cell_type": "code",
   "execution_count": 11,
   "metadata": {},
   "outputs": [
    {
     "data": {
      "text/plain": [
       "<AxesSubplot:>"
      ]
     },
     "execution_count": 11,
     "metadata": {},
     "output_type": "execute_result"
    },
    {
     "data": {
      "image/png": "[encoded data removed]",
      "text/plain": [
       "<Figure size 720x360 with 1 Axes>"
      ]
     },
     "metadata": {
      "needs_background": "light"
     },
     "output_type": "display_data"
    }
   ],
   "source": [
    "import pandas as pd\n",
    "\n",
    "df = pd.read_csv('porifera_R1_misses.csv')\n",
    "df.head()\n",
    "binrange = max(df['o_minus_e']) - min(df['o_minus_e'])\n",
    "df['o_minus_e'].hist(bins=binrange, figsize=(10,5))"
   ]
  },
  {
   "cell_type": "code",
   "execution_count": 12,
   "metadata": {},
   "outputs": [
    {
     "data": {
      "image/png": "[encoded data removed]",
      "text/plain": [
       "<Figure size 720x360 with 1 Axes>"
      ]
     },
     "metadata": {
      "needs_background": "light"
     },
     "output_type": "display_data"
    }
   ],
   "source": [
    "import pandas as pd\n",
    "import matplotlib.pyplot as plt\n",
    "\n",
    "df = pd.read_csv('porifera_R1_misses.csv')\n",
    "binrange = max(df['o_minus_e']) - min(df['o_minus_e'])\n",
    "ax = df['o_minus_e'].hist(bins=binrange, figsize=(10,5))\n",
    "plt.suptitle('Porifera Performance as Counts of Distance from Known Adapter Position\\n(Simulated R1 with minimum overlap of 12 bp)')\n",
    "ax.set_xlabel('Distance (bp) from known adapter position')\n",
    "fig = ax.get_figure()\n",
    "fig.savefig('porifera_R1_misses.pdf')"
   ]
  },
  {
   "cell_type": "code",
   "execution_count": 13,
   "metadata": {},
   "outputs": [
    {
     "name": "stdout",
     "output_type": "stream",
     "text": [
      "all reads:\n",
      "count    952102.000000\n",
      "mean          0.246795\n",
      "std           1.582442\n",
      "min          -2.000000\n",
      "25%           0.000000\n",
      "50%           0.000000\n",
      "75%           0.000000\n",
      "max         136.000000\n",
      "Name: o_minus_e, dtype: float64\n",
      "\n",
      "reads containing adapters:\n",
      "0    715819\n",
      "1    236283\n",
      "Name: contaminated, dtype: int64\n",
      "\n",
      "reads containing missed adapters:\n",
      "0    917873\n",
      "1     34229\n",
      "Name: missed_id, dtype: int64\n",
      "\n",
      "reads containing falsely-identified adapters:\n",
      "0    952100\n",
      "1         2\n",
      "Name: false_id, dtype: int64\n",
      "\n",
      "misidentified reads:\n",
      "count    34231.000000\n",
      "mean         6.864363\n",
      "std          4.921888\n",
      "min         -2.000000\n",
      "25%          3.000000\n",
      "50%          6.000000\n",
      "75%          9.000000\n",
      "max        136.000000\n",
      "Name: o_minus_e, dtype: float64\n"
     ]
    }
   ],
   "source": [
    "!python3 ../scripts/check_simulated_lengths.py adapted.combined.R2.fastq combined.R2.fastq 8 porifera_R2"
   ]
  },
  {
   "cell_type": "code",
   "execution_count": 14,
   "metadata": {},
   "outputs": [
    {
     "data": {
      "image/png": "[encoded data removed]",
      "text/plain": [
       "<Figure size 720x360 with 1 Axes>"
      ]
     },
     "metadata": {
      "needs_background": "light"
     },
     "output_type": "display_data"
    }
   ],
   "source": [
    "import pandas as pd\n",
    "import matplotlib.pyplot as plt\n",
    "\n",
    "df = pd.read_csv('porifera_R2_misses.csv')\n",
    "binrange = max(df['o_minus_e']) - min(df['o_minus_e'])\n",
    "ax = df['o_minus_e'].hist(bins=binrange, figsize=(10,5))\n",
    "plt.suptitle('Porifera Performance as Counts of Distance from Known Adapter Position\\n(Simulated R2 with minimum overlap of 12 bp)')\n",
    "ax.set_xlabel('Distance (bp) from known adapter position')\n",
    "fig = ax.get_figure()\n",
    "fig.savefig('porifera_R2_misses.pdf')"
   ]
  }
 ],
 "metadata": {
  "kernelspec": {
   "display_name": "Python 3",
   "language": "python",
   "name": "python3"
  },
  "language_info": {
   "codemirror_mode": {
    "name": "ipython",
    "version": 3
   },
   "file_extension": ".py",
   "mimetype": "text/x-python",
   "name": "python",
   "nbconvert_exporter": "python",
   "pygments_lexer": "ipython3",
   "version": "3.8.6"
  }
 },
 "nbformat": 4,
 "nbformat_minor": 4
}
