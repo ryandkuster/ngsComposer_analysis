{
 "cells": [
  {
   "cell_type": "markdown",
   "metadata": {},
   "source": [
    "### create directory for each tool"
   ]
  },
  {
   "cell_type": "code",
   "execution_count": 1,
   "metadata": {},
   "outputs": [],
   "source": [
    "!mkdir adapter_removal cutadapt porifera skewer trimmomatic"
   ]
  },
  {
   "cell_type": "markdown",
   "metadata": {},
   "source": [
    "### demultiplex and trim all reads (so forward barcodes don't influence expected read lengths)"
   ]
  },
  {
   "cell_type": "code",
   "execution_count": 2,
   "metadata": {},
   "outputs": [
    {
     "name": "stdout",
     "output_type": "stream",
     "text": [
      "redundant R1 barcodes detected\r\n",
      "redundant R2 barcodes detected\r\n"
     ]
    }
   ],
   "source": [
    "!mkdir demultiplexed\n",
    "!ln -fs ../../../../raw_data/simulated_reads/chr1_1M_hiseq_rr_score_samples/simulated_R1.fastq ./demultiplexed/\n",
    "!ln -fs ../../../../raw_data/simulated_reads/chr1_1M_hiseq_rr_score_samples/simulated_R2.fastq ./demultiplexed/\n",
    "!ln -fs ../../../../resources/barcodes/miseq_barcodes/mwanga_barcodes_combined.txt ./demultiplexed/\n",
    "\n",
    "!python3 /Users/ryankuster/github/ngscomposer/tools/anemone.py -f 6 -r1 ./demultiplexed/simulated_R1.fastq -r2 ./demultiplexed/simulated_R2.fastq -m 1 -c ./demultiplexed/mwanga_barcodes_combined.txt -o ./demultiplexed/"
   ]
  },
  {
   "cell_type": "markdown",
   "metadata": {},
   "source": [
    "### run trimmomatic (version 0.39)  \n",
    "Trimmomatic was not included in the final analyses because there was no way to control for the minimum read length called as an adapter (12bp here). The simple adapter clip variable was set to 12 in these steps, which produce results that do not fairly represent Trimmmomatic's capabilities."
   ]
  },
  {
   "cell_type": "code",
   "execution_count": 3,
   "metadata": {},
   "outputs": [
    {
     "name": "stdout",
     "output_type": "stream",
     "text": [
      ">adapter1/1\r",
      "\r\n",
      "AGATCGGAAGAGCACACGTCTGAACTCCAGTCAC\r",
      "\r\n"
     ]
    }
   ],
   "source": [
    "!gzip -k ./demultiplexed/combined.R1.fastq\n",
    "!ln -fs ../demultiplexed/combined.R1.fastq.gz ./trimmomatic/\n",
    "!ln -fs ../../../../resources/adapters/miseq_mwanga/miseq_mwanga_no_RE/tool_comparisons/trimmomatic_adapters_single.R1.fasta ./trimmomatic/\n",
    "\n",
    "!head -n 5 ./trimmomatic/trimmomatic_adapters_single.R1.fasta"
   ]
  },
  {
   "cell_type": "code",
   "execution_count": 4,
   "metadata": {},
   "outputs": [
    {
     "name": "stdout",
     "output_type": "stream",
     "text": [
      "TrimmomaticSE: Started with arguments:\n",
      " -threads 1 -phred33 ./trimmomatic/combined.R1.fastq.gz ./trimmomatic/trimmomatic_combined.R1.fastq.gz ILLUMINACLIP:./trimmomatic/trimmomatic_adapters_single.R1.fasta:0:0:12 MINLEN:0\n",
      "Using Long Clipping Sequence: 'AGATCGGAAGAGCACACGTCTGAACTCCAGTCAC'\n",
      "ILLUMINACLIP: Using 0 prefix pairs, 0 forward/reverse sequences, 1 forward only sequences, 0 reverse only sequences\n",
      "Input Reads: 952102 Surviving: 952102 (100.00%) Dropped: 0 (0.00%)\n",
      "TrimmomaticSE: Completed successfully\n",
      "java -jar ~/tools/adapter_trimming/Trimmomatic-0.39/trimmomatic-0.39.jar SE    42.14s user 1.09s system 100% cpu 42.858 total\n"
     ]
    }
   ],
   "source": [
    "!time java -jar ~/tools/adapter_trimming/Trimmomatic-0.39/trimmomatic-0.39.jar SE -threads 1 -phred33 \\\n",
    "./trimmomatic/combined.R1.fastq.gz ./trimmomatic/trimmomatic_combined.R1.fastq.gz \\\n",
    "ILLUMINACLIP:./trimmomatic/trimmomatic_adapters_single.R1.fasta:0:0:12 MINLEN:0"
   ]
  },
  {
   "cell_type": "code",
   "execution_count": 5,
   "metadata": {},
   "outputs": [],
   "source": [
    "!gunzip ./trimmomatic/trimmomatic_combined.R1.fastq.gz"
   ]
  },
  {
   "cell_type": "code",
   "execution_count": 6,
   "metadata": {
    "scrolled": true
   },
   "outputs": [
    {
     "name": "stdout",
     "output_type": "stream",
     "text": [
      "all reads:\n",
      "count    952102.000000\n",
      "mean          0.718853\n",
      "std           4.752401\n",
      "min           0.000000\n",
      "25%           0.000000\n",
      "50%           0.000000\n",
      "75%           0.000000\n",
      "max         215.000000\n",
      "Name: o_minus_e, dtype: float64\n",
      "\n",
      "reads containing adapters:\n",
      "0    757712\n",
      "1    194390\n",
      "Name: contaminated, dtype: int64\n",
      "\n",
      "reads containing missed adapters:\n",
      "0    900416\n",
      "1     51686\n",
      "Name: missed_id, dtype: int64\n",
      "\n",
      "reads containing falsely-identified adapters:\n",
      "0    952102\n",
      "Name: false_id, dtype: int64\n",
      "\n",
      "misidentified reads:\n",
      "count    51686.000000\n",
      "mean        13.241903\n",
      "std         15.818245\n",
      "min          1.000000\n",
      "25%          5.000000\n",
      "50%         11.000000\n",
      "75%         16.000000\n",
      "max        215.000000\n",
      "Name: o_minus_e, dtype: float64\n"
     ]
    }
   ],
   "source": [
    "!python3 ../scripts/single_check_simulated_lengths.py ./trimmomatic/trimmomatic_combined.R1.fastq ./demultiplexed/combined.R1.fastq 8 trimmomatic_R1 5\n"
   ]
  },
  {
   "cell_type": "code",
   "execution_count": 7,
   "metadata": {},
   "outputs": [
    {
     "data": {
      "image/png": "[encoded data removed]",
      "text/plain": [
       "<Figure size 720x360 with 1 Axes>"
      ]
     },
     "metadata": {
      "needs_background": "light"
     },
     "output_type": "display_data"
    }
   ],
   "source": [
    "import pandas as pd\n",
    "import matplotlib.pyplot as plt\n",
    "\n",
    "df = pd.read_csv('trimmomatic_R1_misses.csv')\n",
    "binrange = max(df['o_minus_e']) - min(df['o_minus_e'])\n",
    "ax = df['o_minus_e'].hist(bins=binrange, figsize=(10,5))\n",
    "plt.suptitle('Trimmomatic Performance as Counts of Distance from Known Adapter Position\\n(Simulated R1 with minimum overlap of 12 bp; single adapter)')\n",
    "ax.set_xlabel('Distance (bp) from known adapter position')\n",
    "fig = ax.get_figure()\n",
    "fig.savefig('single_trimmomatic_R1_misses.pdf')"
   ]
  },
  {
   "cell_type": "code",
   "execution_count": 8,
   "metadata": {},
   "outputs": [
    {
     "name": "stdout",
     "output_type": "stream",
     "text": [
      ">adapter1/1\r",
      "\r\n",
      "AGATCGGAAGAGCGTCGTGTAGGGAAAGAGTGT\r",
      "\r\n"
     ]
    }
   ],
   "source": [
    "!gzip -k ./demultiplexed/combined.R2.fastq\n",
    "!ln -fs ../demultiplexed/combined.R2.fastq.gz ./trimmomatic/\n",
    "!ln -fs ../../../../resources/adapters/miseq_mwanga/miseq_mwanga_no_RE/tool_comparisons/trimmomatic_adapters_single.R2.fasta ./trimmomatic/\n",
    "\n",
    "!head -n 5 ./trimmomatic/trimmomatic_adapters_single.R2.fasta"
   ]
  },
  {
   "cell_type": "code",
   "execution_count": 9,
   "metadata": {},
   "outputs": [
    {
     "name": "stdout",
     "output_type": "stream",
     "text": [
      "TrimmomaticSE: Started with arguments:\n",
      " -threads 1 -phred33 ./trimmomatic/combined.R2.fastq.gz ./trimmomatic/trimmomatic_combined.R2.fastq.gz ILLUMINACLIP:./trimmomatic/trimmomatic_adapters_single.R2.fasta:0:0:12 MINLEN:0\n",
      "Using Long Clipping Sequence: 'AGATCGGAAGAGCGTCGTGTAGGGAAAGAGTGT'\n",
      "ILLUMINACLIP: Using 0 prefix pairs, 0 forward/reverse sequences, 1 forward only sequences, 0 reverse only sequences\n",
      "Input Reads: 952102 Surviving: 952102 (100.00%) Dropped: 0 (0.00%)\n",
      "TrimmomaticSE: Completed successfully\n",
      "java -jar ~/tools/adapter_trimming/Trimmomatic-0.39/trimmomatic-0.39.jar SE    46.17s user 1.05s system 101% cpu 46.587 total\n"
     ]
    }
   ],
   "source": [
    "!time java -jar ~/tools/adapter_trimming/Trimmomatic-0.39/trimmomatic-0.39.jar SE -threads 1 -phred33 \\\n",
    "./trimmomatic/combined.R2.fastq.gz ./trimmomatic/trimmomatic_combined.R2.fastq.gz \\\n",
    "ILLUMINACLIP:./trimmomatic/trimmomatic_adapters_single.R2.fasta:0:0:12 MINLEN:0"
   ]
  },
  {
   "cell_type": "code",
   "execution_count": 10,
   "metadata": {},
   "outputs": [],
   "source": [
    "!gunzip ./trimmomatic/trimmomatic_combined.R2.fastq.gz"
   ]
  },
  {
   "cell_type": "code",
   "execution_count": 11,
   "metadata": {
    "scrolled": true
   },
   "outputs": [
    {
     "name": "stdout",
     "output_type": "stream",
     "text": [
      "all reads:\n",
      "count    952102.000000\n",
      "mean          0.928373\n",
      "std           6.320662\n",
      "min           0.000000\n",
      "25%           0.000000\n",
      "50%           0.000000\n",
      "75%           0.000000\n",
      "max         215.000000\n",
      "Name: o_minus_e, dtype: float64\n",
      "\n",
      "reads containing adapters:\n",
      "0    757712\n",
      "1    194390\n",
      "Name: contaminated, dtype: int64\n",
      "\n",
      "reads containing missed adapters:\n",
      "0    897097\n",
      "1     55005\n",
      "Name: missed_id, dtype: int64\n",
      "\n",
      "reads containing falsely-identified adapters:\n",
      "0    952102\n",
      "Name: false_id, dtype: int64\n",
      "\n",
      "misidentified reads:\n",
      "count    55005.000000\n",
      "mean        16.069557\n",
      "std         21.171162\n",
      "min          1.000000\n",
      "25%          6.000000\n",
      "50%         11.000000\n",
      "75%         17.000000\n",
      "max        215.000000\n",
      "Name: o_minus_e, dtype: float64\n"
     ]
    }
   ],
   "source": [
    "!python3 ../scripts/single_check_simulated_lengths.py ./trimmomatic/trimmomatic_combined.R2.fastq ./demultiplexed/combined.R2.fastq 8 trimmomatic_R2 4\n"
   ]
  },
  {
   "cell_type": "code",
   "execution_count": 12,
   "metadata": {},
   "outputs": [
    {
     "data": {
      "image/png": "[encoded data removed]",
      "text/plain": [
       "<Figure size 720x360 with 1 Axes>"
      ]
     },
     "metadata": {
      "needs_background": "light"
     },
     "output_type": "display_data"
    }
   ],
   "source": [
    "import pandas as pd\n",
    "import matplotlib.pyplot as plt\n",
    "\n",
    "df = pd.read_csv('trimmomatic_R2_misses.csv')\n",
    "binrange = max(df['o_minus_e']) - min(df['o_minus_e'])\n",
    "ax = df['o_minus_e'].hist(bins=binrange, figsize=(10,5))\n",
    "plt.suptitle('Trimmomatic Performance as Counts of Distance from Known Adapter Position\\n(Simulated R2 with minimum overlap of 12 bp; single adapter)')\n",
    "ax.set_xlabel('Distance (bp) from known adapter position')\n",
    "fig = ax.get_figure()\n",
    "fig.savefig('single_trimmomatic_R2_misses.pdf')"
   ]
  },
  {
   "cell_type": "markdown",
   "metadata": {},
   "source": [
    "### run porifera (version 0.4.7 commit 'b1ce4a2')"
   ]
  },
  {
   "cell_type": "code",
   "execution_count": 13,
   "metadata": {
    "scrolled": true
   },
   "outputs": [
    {
     "name": "stdout",
     "output_type": "stream",
     "text": [
      "GTGACTGGAGTTCAGACGTGTGCTCTTCCGATCT\r\n"
     ]
    }
   ],
   "source": [
    "!ln -fs ../demultiplexed/combined.R1.fastq ./porifera\n",
    "!ln -fs ../../../../resources/adapters/miseq_mwanga/miseq_mwanga_no_RE/tool_comparisons/adapters_single.R1.txt ./porifera/\n",
    "\n",
    "!head -n 5 ./porifera/adapters_single.R1.txt"
   ]
  },
  {
   "cell_type": "code",
   "execution_count": 14,
   "metadata": {},
   "outputs": [
    {
     "name": "stdout",
     "output_type": "stream",
     "text": [
      "python3 /Users/ryankuster/github/ngscomposer/tools/porifera.py -r1  -a1  -m 1  15.38s user 1.66s system 97% cpu 17.417 total\r\n"
     ]
    }
   ],
   "source": [
    "!time python3 /Users/ryankuster/github/ngscomposer/tools/porifera.py -r1 ./porifera/combined.R1.fastq -a1 ./porifera/adapters_single.R1.txt -m 12 -l 0 -o ./porifera/\n"
   ]
  },
  {
   "cell_type": "code",
   "execution_count": 15,
   "metadata": {
    "scrolled": true
   },
   "outputs": [
    {
     "name": "stdout",
     "output_type": "stream",
     "text": [
      "all reads:\n",
      "count    952102.000000\n",
      "mean          0.202380\n",
      "std           1.527447\n",
      "min        -176.000000\n",
      "25%           0.000000\n",
      "50%           0.000000\n",
      "75%           0.000000\n",
      "max         185.000000\n",
      "Name: o_minus_e, dtype: float64\n",
      "\n",
      "reads containing adapters:\n",
      "0    757712\n",
      "1    194390\n",
      "Name: contaminated, dtype: int64\n",
      "\n",
      "reads containing missed adapters:\n",
      "0    922726\n",
      "1     29376\n",
      "Name: missed_id, dtype: int64\n",
      "\n",
      "reads containing falsely-identified adapters:\n",
      "0    952100\n",
      "1         2\n",
      "Name: false_id, dtype: int64\n",
      "\n",
      "misidentified reads:\n",
      "count    29378.000000\n",
      "mean         6.558854\n",
      "std          5.824289\n",
      "min       -176.000000\n",
      "25%          3.000000\n",
      "50%          6.000000\n",
      "75%          9.000000\n",
      "max        185.000000\n",
      "Name: o_minus_e, dtype: float64\n"
     ]
    }
   ],
   "source": [
    "!python3 ../scripts/single_check_simulated_lengths.py ./porifera/adapted.combined.R1.fastq ./demultiplexed/combined.R1.fastq 8 porifera_R1 5\n"
   ]
  },
  {
   "cell_type": "code",
   "execution_count": 16,
   "metadata": {},
   "outputs": [
    {
     "data": {
      "image/png": "[encoded data removed]",
      "text/plain": [
       "<Figure size 720x360 with 1 Axes>"
      ]
     },
     "metadata": {
      "needs_background": "light"
     },
     "output_type": "display_data"
    }
   ],
   "source": [
    "import pandas as pd\n",
    "import matplotlib.pyplot as plt\n",
    "\n",
    "df = pd.read_csv('porifera_R1_misses.csv')\n",
    "binrange = max(df['o_minus_e']) - min(df['o_minus_e'])\n",
    "ax = df['o_minus_e'].hist(bins=binrange, figsize=(10,5))\n",
    "plt.suptitle('Porifera Performance as Counts of Distance from Known Adapter Position\\n(Simulated R1 with minimum overlap of 12 bp; single adapter)')\n",
    "ax.set_xlabel('Distance (bp) from known adapter position')\n",
    "fig = ax.get_figure()\n",
    "fig.savefig('single_porifera_R1_misses.pdf')"
   ]
  },
  {
   "cell_type": "code",
   "execution_count": 17,
   "metadata": {
    "scrolled": true
   },
   "outputs": [
    {
     "name": "stdout",
     "output_type": "stream",
     "text": [
      "ACACTCTTTCCCTACACGACGCTCTTCCGATCT\r\n"
     ]
    }
   ],
   "source": [
    "!ln -fs ../demultiplexed/combined.R2.fastq ./porifera\n",
    "!ln -fs ../../../../resources/adapters/miseq_mwanga/miseq_mwanga_no_RE/tool_comparisons/adapters_single.R2.txt ./porifera/\n",
    "\n",
    "!head -n 5 ./porifera/adapters_single.R2.txt"
   ]
  },
  {
   "cell_type": "code",
   "execution_count": 18,
   "metadata": {},
   "outputs": [
    {
     "name": "stdout",
     "output_type": "stream",
     "text": [
      "python3 /Users/ryankuster/github/ngscomposer/tools/porifera.py -r1  -a1  -m 1  13.83s user 1.29s system 98% cpu 15.417 total\r\n"
     ]
    }
   ],
   "source": [
    "!time python3 /Users/ryankuster/github/ngscomposer/tools/porifera.py -r1 ./porifera/combined.R2.fastq -a1 ./porifera/adapters_single.R2.txt -m 12 -l 0 -o ./porifera/"
   ]
  },
  {
   "cell_type": "code",
   "execution_count": 19,
   "metadata": {
    "scrolled": true
   },
   "outputs": [
    {
     "name": "stdout",
     "output_type": "stream",
     "text": [
      "all reads:\n",
      "count    952102.000000\n",
      "mean          0.222527\n",
      "std           1.804439\n",
      "min        -181.000000\n",
      "25%           0.000000\n",
      "50%           0.000000\n",
      "75%           0.000000\n",
      "max         209.000000\n",
      "Name: o_minus_e, dtype: float64\n",
      "\n",
      "reads containing adapters:\n",
      "0    757712\n",
      "1    194390\n",
      "Name: contaminated, dtype: int64\n",
      "\n",
      "reads containing missed adapters:\n",
      "0    921921\n",
      "1     30181\n",
      "Name: missed_id, dtype: int64\n",
      "\n",
      "reads containing falsely-identified adapters:\n",
      "0    952101\n",
      "1         1\n",
      "Name: false_id, dtype: int64\n",
      "\n",
      "misidentified reads:\n",
      "count    30182.000000\n",
      "mean         7.019681\n",
      "std          7.416170\n",
      "min       -181.000000\n",
      "25%          3.000000\n",
      "50%          6.000000\n",
      "75%          9.000000\n",
      "max        209.000000\n",
      "Name: o_minus_e, dtype: float64\n"
     ]
    }
   ],
   "source": [
    "!python3 ../scripts/single_check_simulated_lengths.py ./porifera/adapted.combined.R2.fastq ./demultiplexed/combined.R2.fastq 8 porifera_R2 4"
   ]
  },
  {
   "cell_type": "code",
   "execution_count": 20,
   "metadata": {},
   "outputs": [
    {
     "data": {
      "image/png": "[encoded data removed]",
      "text/plain": [
       "<Figure size 720x360 with 1 Axes>"
      ]
     },
     "metadata": {
      "needs_background": "light"
     },
     "output_type": "display_data"
    }
   ],
   "source": [
    "import pandas as pd\n",
    "import matplotlib.pyplot as plt\n",
    "\n",
    "df = pd.read_csv('porifera_R2_misses.csv')\n",
    "binrange = max(df['o_minus_e']) - min(df['o_minus_e'])\n",
    "ax = df['o_minus_e'].hist(bins=binrange, figsize=(10,5))\n",
    "plt.suptitle('Porifera Performance as Counts of Distance from Known Adapter Position\\n(Simulated R2 with minimum overlap of 12 bp; single adapter)')\n",
    "ax.set_xlabel('Distance (bp) from known adapter position')\n",
    "fig = ax.get_figure()\n",
    "fig.savefig('single_porifera_R2_misses.pdf')"
   ]
  },
  {
   "cell_type": "markdown",
   "metadata": {},
   "source": [
    "### run adapterremoval (version 2.3.1 commit 'e5d15a7')"
   ]
  },
  {
   "cell_type": "code",
   "execution_count": 21,
   "metadata": {},
   "outputs": [
    {
     "name": "stdout",
     "output_type": "stream",
     "text": [
      "AGATCGGAAGAGCACACGTCTGAACTCCAGTCAC\r\n"
     ]
    }
   ],
   "source": [
    "!ln -fs ../demultiplexed/combined.R1.fastq ./adapter_removal/\n",
    "!ln -fs ../../../../resources/adapters/miseq_mwanga/miseq_mwanga_no_RE/tool_comparisons/adapterremoval_adapters_single.R1.txt ./adapter_removal/\n",
    "\n",
    "!head -n 5 ./adapter_removal/adapterremoval_adapters_single.R1.txt"
   ]
  },
  {
   "cell_type": "code",
   "execution_count": 22,
   "metadata": {
    "scrolled": true
   },
   "outputs": [
    {
     "name": "stdout",
     "output_type": "stream",
     "text": [
      "Read 1 adapters / adapter pairs from './adapter_removal/adapterremoval_adapters_single.R1.txt'...\n",
      "Trimming single ended reads ...\n",
      "Opening FASTQ file './adapter_removal/combined.R1.fastq', line numbers start at 1\n",
      "Processed a total of 952,102 reads in 9.1s; 104,000 reads per second on average ...\n",
      "/usr/local/bin/AdapterRemoval --file1 ./adapter_removal/combined.R1.fastq      7.28s user 1.58s system 97% cpu 9.136 total\n"
     ]
    }
   ],
   "source": [
    "!time /usr/local/bin/AdapterRemoval --file1 ./adapter_removal/combined.R1.fastq --adapter-list ./adapter_removal/adapterremoval_adapters_single.R1.txt --minlength 0 --minadapteroverlap 12"
   ]
  },
  {
   "cell_type": "code",
   "execution_count": 23,
   "metadata": {
    "scrolled": false
   },
   "outputs": [
    {
     "name": "stdout",
     "output_type": "stream",
     "text": [
      "all reads:\n",
      "count    952102.000000\n",
      "mean          0.127245\n",
      "std           1.600115\n",
      "min        -202.000000\n",
      "25%           0.000000\n",
      "50%           0.000000\n",
      "75%           0.000000\n",
      "max          13.000000\n",
      "Name: o_minus_e, dtype: float64\n",
      "\n",
      "reads containing adapters:\n",
      "0    757712\n",
      "1    194390\n",
      "Name: contaminated, dtype: int64\n",
      "\n",
      "reads containing missed adapters:\n",
      "0    924168\n",
      "1     27934\n",
      "Name: missed_id, dtype: int64\n",
      "\n",
      "reads containing falsely-identified adapters:\n",
      "0    949058\n",
      "1      3044\n",
      "Name: false_id, dtype: int64\n",
      "\n",
      "misidentified reads:\n",
      "count    30978.000000\n",
      "mean         3.910840\n",
      "std          7.993577\n",
      "min       -202.000000\n",
      "25%          2.000000\n",
      "50%          5.000000\n",
      "75%          8.000000\n",
      "max         13.000000\n",
      "Name: o_minus_e, dtype: float64\n"
     ]
    }
   ],
   "source": [
    "!mv your_output* ./adapter_removal/\n",
    "\n",
    "!python3 ../scripts/single_check_simulated_lengths.py ./adapter_removal/your_output.truncated ./demultiplexed/combined.R1.fastq 8 adapterremoval_R1 5\n"
   ]
  },
  {
   "cell_type": "code",
   "execution_count": 24,
   "metadata": {},
   "outputs": [
    {
     "data": {
      "image/png": "[encoded data removed]",
      "text/plain": [
       "<Figure size 720x360 with 1 Axes>"
      ]
     },
     "metadata": {
      "needs_background": "light"
     },
     "output_type": "display_data"
    }
   ],
   "source": [
    "import pandas as pd\n",
    "import matplotlib.pyplot as plt\n",
    "\n",
    "df = pd.read_csv('adapterremoval_R1_misses.csv')\n",
    "binrange = max(df['o_minus_e']) - min(df['o_minus_e'])\n",
    "ax = df['o_minus_e'].hist(bins=binrange, figsize=(10,5))\n",
    "plt.suptitle('AdapterRemoval Performance as Counts of Distance from Known Adapter Position\\n(Simulated R1 with minimum overlap of 12 bp; single adapter)')\n",
    "ax.set_xlabel('Distance (bp) from known adapter position')\n",
    "fig = ax.get_figure()\n",
    "fig.savefig('single_adapterremoval_R1_misses.pdf')"
   ]
  },
  {
   "cell_type": "code",
   "execution_count": 25,
   "metadata": {},
   "outputs": [
    {
     "name": "stdout",
     "output_type": "stream",
     "text": [
      "AGATCGGAAGAGCGTCGTGTAGGGAAAGAGTGT\r\n"
     ]
    }
   ],
   "source": [
    "!ln -fs ../demultiplexed/combined.R2.fastq ./adapter_removal/\n",
    "!ln -fs ../../../../resources/adapters/miseq_mwanga/miseq_mwanga_no_RE/tool_comparisons/adapterremoval_adapters_single.R2.txt ./adapter_removal/\n",
    "\n",
    "!head -n 5 ./adapter_removal/adapterremoval_adapters_single.R2.txt"
   ]
  },
  {
   "cell_type": "code",
   "execution_count": 26,
   "metadata": {
    "scrolled": true
   },
   "outputs": [
    {
     "name": "stdout",
     "output_type": "stream",
     "text": [
      "Read 1 adapters / adapter pairs from './adapter_removal/adapterremoval_adapters_single.R2.txt'...\n",
      "Trimming single ended reads ...\n",
      "Opening FASTQ file './adapter_removal/combined.R2.fastq', line numbers start at 1\n",
      "Processed a total of 952,102 reads in 7.1s; 134,000 reads per second on average ...\n",
      "/usr/local/bin/AdapterRemoval --file1 ./adapter_removal/combined.R2.fastq      5.68s user 1.30s system 98% cpu 7.092 total\n"
     ]
    }
   ],
   "source": [
    "!time /usr/local/bin/AdapterRemoval --file1 ./adapter_removal/combined.R2.fastq --adapter-list ./adapter_removal/adapterremoval_adapters_single.R2.txt --minlength 0 --minadapteroverlap 12"
   ]
  },
  {
   "cell_type": "code",
   "execution_count": 27,
   "metadata": {
    "scrolled": false
   },
   "outputs": [
    {
     "name": "stdout",
     "output_type": "stream",
     "text": [
      "all reads:\n",
      "count    952102.000000\n",
      "mean          0.111707\n",
      "std           2.072554\n",
      "min        -184.000000\n",
      "25%           0.000000\n",
      "50%           0.000000\n",
      "75%           0.000000\n",
      "max          81.000000\n",
      "Name: o_minus_e, dtype: float64\n",
      "\n",
      "reads containing adapters:\n",
      "0    757712\n",
      "1    194390\n",
      "Name: contaminated, dtype: int64\n",
      "\n",
      "reads containing missed adapters:\n",
      "0    924260\n",
      "1     27842\n",
      "Name: missed_id, dtype: int64\n",
      "\n",
      "reads containing falsely-identified adapters:\n",
      "0    949027\n",
      "1      3075\n",
      "Name: false_id, dtype: int64\n",
      "\n",
      "misidentified reads:\n",
      "count    30917.000000\n",
      "mean         3.440049\n",
      "std         10.992505\n",
      "min       -184.000000\n",
      "25%          2.000000\n",
      "50%          5.000000\n",
      "75%          8.000000\n",
      "max         81.000000\n",
      "Name: o_minus_e, dtype: float64\n"
     ]
    }
   ],
   "source": [
    "!mv your_output* ./adapter_removal/\n",
    "\n",
    "!python3 ../scripts/single_check_simulated_lengths.py ./adapter_removal/your_output.truncated ./demultiplexed/combined.R2.fastq 8 adapterremoval_R2 4\n"
   ]
  },
  {
   "cell_type": "code",
   "execution_count": 28,
   "metadata": {},
   "outputs": [
    {
     "data": {
      "image/png": "[encoded data removed]",
      "text/plain": [
       "<Figure size 720x360 with 1 Axes>"
      ]
     },
     "metadata": {
      "needs_background": "light"
     },
     "output_type": "display_data"
    }
   ],
   "source": [
    "import pandas as pd\n",
    "import matplotlib.pyplot as plt\n",
    "\n",
    "df = pd.read_csv('adapterremoval_R2_misses.csv')\n",
    "binrange = max(df['o_minus_e']) - min(df['o_minus_e'])\n",
    "ax = df['o_minus_e'].hist(bins=binrange, figsize=(10,5))\n",
    "plt.suptitle('AdapterRemoval Performance as Counts of Distance from Known Adapter Position\\n(Simulated R2 with minimum overlap of 12 bp; single adapter)')\n",
    "ax.set_xlabel('Distance (bp) from known adapter position')\n",
    "fig = ax.get_figure()\n",
    "fig.savefig('single_adapterremoval_R2_misses.pdf')"
   ]
  },
  {
   "cell_type": "markdown",
   "metadata": {},
   "source": [
    "### run skewer (version 0.2.2 commit '978e8e4')"
   ]
  },
  {
   "cell_type": "code",
   "execution_count": 29,
   "metadata": {
    "scrolled": true
   },
   "outputs": [
    {
     "name": "stdout",
     "output_type": "stream",
     "text": [
      ">\r\n",
      "AGATCGGAAGAGCACACGTCTGAACTCCAGTCAC\r\n"
     ]
    }
   ],
   "source": [
    "!ln -fs ../demultiplexed/combined.R1.fastq ./skewer/\n",
    "!ln -fs ../../../../resources/adapters/miseq_mwanga/miseq_mwanga_no_RE/tool_comparisons/skewer_adapters_single.R1.fasta ./skewer/\n",
    "\n",
    "!head -n 5 ./skewer/skewer_adapters_single.R1.fasta"
   ]
  },
  {
   "cell_type": "code",
   "execution_count": 30,
   "metadata": {},
   "outputs": [
    {
     "name": "stdout",
     "output_type": "stream",
     "text": [
      ".--. .-.\n",
      ": .--': :.-.\n",
      "`. `. : `'.' .--. .-..-..-. .--. .--.\n",
      "_`, :: . `.' '_.': `; `; :' '_.': ..'\n",
      "`.__.':_;:_;`.__.'`.__.__.'`.__.':_;\n",
      "skewer v0.2.2 [April 4, 2016]\n",
      "Parameters used:\n",
      "-- 3' end adapter sequences in file (-x):\t./skewer/skewer_adapters_single.R1.fasta\n",
      "A:\t\u001b[0;33mAGATCGGAAGAGCACACGTCTGAACTCCAGTCAC\n",
      "\u001b[0m-- maximum error ratio allowed (-r):\t0.100\n",
      "-- maximum indel error ratio allowed (-d):\t0.030\n",
      "-- minimum read length allowed after trimming (-l):\t0\n",
      "-- file format (-f):\t\tSanger/Illumina 1.8+ FASTQ (auto detected)\n",
      "-- minimum overlap length for adapter detection (-k):\t12\n",
      "Thu Jan 14 09:32:41 2021\u001b[0;32m >> started\u001b[0m\n",
      "|=================================================>| (100.00%)\n",
      "Thu Jan 14 09:32:54 2021\u001b[0;32m >> done\u001b[0m (24.965s)\n",
      "952102 reads processed; of these:\n",
      "952102 (100.00%) reads available; of these:\n",
      "163544 (17.18%) trimmed reads available after processing\n",
      "788558 (82.82%) untrimmed reads available after processing\n",
      "log has been saved to \"./skewer/combined.R1-trimmed.log\".\n",
      "/usr/local/bin/skewer -l 0 -k 12 -x ./skewer/skewer_adapters_single.R1.fasta   11.36s user 1.42s system 98% cpu 12.997 total\n"
     ]
    }
   ],
   "source": [
    "!time /usr/local/bin/skewer -l 0 -k 12 -x ./skewer/skewer_adapters_single.R1.fasta ./skewer/combined.R1.fastq"
   ]
  },
  {
   "cell_type": "code",
   "execution_count": 31,
   "metadata": {
    "scrolled": true
   },
   "outputs": [
    {
     "name": "stdout",
     "output_type": "stream",
     "text": [
      "all reads:\n",
      "count    952102.000000\n",
      "mean          0.177582\n",
      "std           1.266721\n",
      "min           0.000000\n",
      "25%           0.000000\n",
      "50%           0.000000\n",
      "75%           0.000000\n",
      "max         185.000000\n",
      "Name: o_minus_e, dtype: float64\n",
      "\n",
      "reads containing adapters:\n",
      "0    757712\n",
      "1    194390\n",
      "Name: contaminated, dtype: int64\n",
      "\n",
      "reads containing missed adapters:\n",
      "0    923985\n",
      "1     28117\n",
      "Name: missed_id, dtype: int64\n",
      "\n",
      "reads containing falsely-identified adapters:\n",
      "0    952102\n",
      "Name: false_id, dtype: int64\n",
      "\n",
      "misidentified reads:\n",
      "count    28117.000000\n",
      "mean         6.013302\n",
      "std          4.386720\n",
      "min          1.000000\n",
      "25%          3.000000\n",
      "50%          6.000000\n",
      "75%          9.000000\n",
      "max        185.000000\n",
      "Name: o_minus_e, dtype: float64\n"
     ]
    }
   ],
   "source": [
    "!python3 ../scripts/single_check_simulated_lengths.py ./skewer/combined.R1-trimmed.fastq ./demultiplexed/combined.R1.fastq 8 skewer_R1 5\n"
   ]
  },
  {
   "cell_type": "code",
   "execution_count": 32,
   "metadata": {},
   "outputs": [
    {
     "data": {
      "image/png": "[encoded data removed]",
      "text/plain": [
       "<Figure size 720x360 with 1 Axes>"
      ]
     },
     "metadata": {
      "needs_background": "light"
     },
     "output_type": "display_data"
    }
   ],
   "source": [
    "import pandas as pd\n",
    "import matplotlib.pyplot as plt\n",
    "\n",
    "df = pd.read_csv('skewer_R1_misses.csv')\n",
    "binrange = max(df['o_minus_e']) - min(df['o_minus_e'])\n",
    "ax = df['o_minus_e'].hist(bins=binrange, figsize=(10,5))\n",
    "plt.suptitle('Skewer Performance as Counts of Distance from Known Adapter Position\\n(Simulated R1 with minimum overlap of 12 bp; single adapter)')\n",
    "ax.set_xlabel('Distance (bp) from known adapter position')\n",
    "fig = ax.get_figure()\n",
    "fig.savefig('single_skewer_R1_misses.pdf')"
   ]
  },
  {
   "cell_type": "code",
   "execution_count": 33,
   "metadata": {
    "scrolled": true
   },
   "outputs": [
    {
     "name": "stdout",
     "output_type": "stream",
     "text": [
      ">\r\n",
      "AGATCGGAAGAGCGTCGTGTAGGGAAAGAGTGT\r\n"
     ]
    }
   ],
   "source": [
    "!ln -fs ../demultiplexed/combined.R2.fastq ./skewer/\n",
    "!ln -fs ../../../../resources/adapters/miseq_mwanga/miseq_mwanga_no_RE/tool_comparisons/skewer_adapters_single.R2.fasta ./skewer/\n",
    "\n",
    "!head -n 5 ./skewer/skewer_adapters_single.R2.fasta"
   ]
  },
  {
   "cell_type": "code",
   "execution_count": 34,
   "metadata": {},
   "outputs": [
    {
     "name": "stdout",
     "output_type": "stream",
     "text": [
      ".--. .-.\n",
      ": .--': :.-.\n",
      "`. `. : `'.' .--. .-..-..-. .--. .--.\n",
      "_`, :: . `.' '_.': `; `; :' '_.': ..'\n",
      "`.__.':_;:_;`.__.'`.__.__.'`.__.':_;\n",
      "skewer v0.2.2 [April 4, 2016]\n",
      "Parameters used:\n",
      "-- 3' end adapter sequences in file (-x):\t./skewer/skewer_adapters_single.R2.fasta\n",
      "A:\t\u001b[0;33mAGATCGGAAGAGCGTCGTGTAGGGAAAGAGTGT\n",
      "\u001b[0m-- maximum error ratio allowed (-r):\t0.100\n",
      "-- maximum indel error ratio allowed (-d):\t0.030\n",
      "-- minimum read length allowed after trimming (-l):\t0\n",
      "-- file format (-f):\t\tSanger/Illumina 1.8+ FASTQ (auto detected)\n",
      "-- minimum overlap length for adapter detection (-k):\t12\n",
      "Thu Jan 14 09:33:05 2021\u001b[0;32m >> started\u001b[0m\n",
      "|=================================================>| (100.00%)\n",
      "Thu Jan 14 09:33:20 2021\u001b[0;32m >> done\u001b[0m (28.895s)\n",
      "952102 reads processed; of these:\n",
      "952102 (100.00%) reads available; of these:\n",
      "163453 (17.17%) trimmed reads available after processing\n",
      "788649 (82.83%) untrimmed reads available after processing\n",
      "log has been saved to \"./skewer/combined.R2-trimmed.log\".\n",
      "/usr/local/bin/skewer -l 0 -k 12 -x ./skewer/skewer_adapters_single.R2.fasta   13.17s user 1.50s system 98% cpu 14.907 total\n"
     ]
    }
   ],
   "source": [
    "!time /usr/local/bin/skewer -l 0 -k 12 -x ./skewer/skewer_adapters_single.R2.fasta ./skewer/combined.R2.fastq"
   ]
  },
  {
   "cell_type": "code",
   "execution_count": 35,
   "metadata": {
    "scrolled": true
   },
   "outputs": [
    {
     "name": "stdout",
     "output_type": "stream",
     "text": [
      "all reads:\n",
      "count    952102.000000\n",
      "mean          0.180050\n",
      "std           1.317329\n",
      "min           0.000000\n",
      "25%           0.000000\n",
      "50%           0.000000\n",
      "75%           0.000000\n",
      "max         214.000000\n",
      "Name: o_minus_e, dtype: float64\n",
      "\n",
      "reads containing adapters:\n",
      "0    757712\n",
      "1    194390\n",
      "Name: contaminated, dtype: int64\n",
      "\n",
      "reads containing missed adapters:\n",
      "0    923888\n",
      "1     28214\n",
      "Name: missed_id, dtype: int64\n",
      "\n",
      "reads containing falsely-identified adapters:\n",
      "0    952102\n",
      "Name: false_id, dtype: int64\n",
      "\n",
      "misidentified reads:\n",
      "count    28214.00000\n",
      "mean         6.07592\n",
      "std          4.76852\n",
      "min          1.00000\n",
      "25%          3.00000\n",
      "50%          6.00000\n",
      "75%          9.00000\n",
      "max        214.00000\n",
      "Name: o_minus_e, dtype: float64\n"
     ]
    }
   ],
   "source": [
    "!python3 ../scripts/single_check_simulated_lengths.py ./skewer/combined.R2-trimmed.fastq ./demultiplexed/combined.R2.fastq 8 skewer_R2 4\n"
   ]
  },
  {
   "cell_type": "code",
   "execution_count": 36,
   "metadata": {
    "scrolled": true
   },
   "outputs": [
    {
     "data": {
      "image/png": "[encoded data removed]",
      "text/plain": [
       "<Figure size 720x360 with 1 Axes>"
      ]
     },
     "metadata": {
      "needs_background": "light"
     },
     "output_type": "display_data"
    }
   ],
   "source": [
    "import pandas as pd\n",
    "import matplotlib.pyplot as plt\n",
    "\n",
    "df = pd.read_csv('skewer_R2_misses.csv')\n",
    "binrange = max(df['o_minus_e']) - min(df['o_minus_e'])\n",
    "ax = df['o_minus_e'].hist(bins=binrange, figsize=(10,5))\n",
    "plt.suptitle('Skewer Performance as Counts of Distance from Known Adapter Position\\n(Simulated R2 with minimum overlap of 12 bp; single adapter)')\n",
    "ax.set_xlabel('Distance (bp) from known adapter position')\n",
    "fig = ax.get_figure()\n",
    "fig.savefig('single_skewer_R2_misses.pdf')"
   ]
  },
  {
   "cell_type": "markdown",
   "metadata": {},
   "source": [
    "### run cutadapt (version 3.1 commit 'b47e1fa')"
   ]
  },
  {
   "cell_type": "code",
   "execution_count": 37,
   "metadata": {
    "scrolled": true
   },
   "outputs": [
    {
     "name": "stdout",
     "output_type": "stream",
     "text": [
      "/usr/local/bin/cutadapt --minimum-length 0 \\\r\n",
      "-a \"AGATCGGAAGAGCACACGTCTGAACTCCAGTCAC;min_overlap=12\" \\\r\n",
      "-o ./cutadapt/cutadapt_combined.R1.fastq ./cutadapt/combined.R1.fastq\r\n"
     ]
    }
   ],
   "source": [
    "!ln -fs ../demultiplexed/combined.R1.fastq ./cutadapt/\n",
    "!ln -fs ../../../../resources/adapters/miseq_mwanga/miseq_mwanga_no_RE/tool_comparisons/cutadapt_adapters_single.R1.sh ./cutadapt/\n",
    "\n",
    "!head -n 5 ./cutadapt/cutadapt_adapters_single.R1.sh"
   ]
  },
  {
   "cell_type": "code",
   "execution_count": 38,
   "metadata": {
    "scrolled": true
   },
   "outputs": [
    {
     "name": "stdout",
     "output_type": "stream",
     "text": [
      "This is cutadapt 3.1 with Python 3.8.6\n",
      "Command line parameters: --minimum-length 0 -a AGATCGGAAGAGCACACGTCTGAACTCCAGTCAC;min_overlap=12 -o ./cutadapt/cutadapt_combined.R1.fastq ./cutadapt/combined.R1.fastq\n",
      "Processing reads on 1 core in single-end mode ...\n",
      "[      8<----] 00:00:13       952,102 reads  @     14.5 µs/read;   4.13 M reads/minute\n",
      "Finished in 13.86 s (15 µs/read; 4.12 M reads/minute).\n",
      "\n",
      "=== Summary ===\n",
      "\n",
      "Total reads processed:                 952,102\n",
      "Reads with adapters:                   165,660 (17.4%)\n",
      "Reads that were too short:                   0 (0.0%)\n",
      "Reads written (passing filters):       952,102 (100.0%)\n",
      "\n",
      "Total basepairs processed:   224,197,916 bp\n",
      "Total written (filtered):    213,798,211 bp (95.4%)\n",
      "\n",
      "=== Adapter 1 ===\n",
      "\n",
      "Sequence: AGATCGGAAGAGCACACGTCTGAACTCCAGTCAC; Type: regular 3'; Length: 34; Trimmed: 165660 times\n",
      "\n",
      "No. of allowed errors:\n",
      "1-9 bp: 0; 10-19 bp: 1; 20-29 bp: 2; 30-34 bp: 3\n",
      "\n",
      "Bases preceding removed adapters:\n",
      "  A: 24.0%\n",
      "  C: 27.2%\n",
      "  G: 24.8%\n",
      "  T: 24.0%\n",
      "  none/other: 0.0%\n",
      "\n",
      "Overview of removed sequences\n",
      "length\tcount\texpect\tmax.err\terror counts\n",
      "11\t2357\t0.2\t1\t0 2357\n",
      "12\t2532\t0.1\t1\t2317 215\n",
      "13\t2491\t0.0\t1\t2312 179\n",
      "14\t2398\t0.0\t1\t2215 183\n",
      "15\t2185\t0.0\t1\t1993 192\n",
      "16\t2327\t0.0\t1\t2122 205\n",
      "17\t2377\t0.0\t1\t2156 221\n",
      "18\t2297\t0.0\t1\t2078 211 8\n",
      "19\t2344\t0.0\t1\t2103 231 10\n",
      "20\t2312\t0.0\t2\t2030 240 42\n",
      "21\t2239\t0.0\t2\t1955 248 36\n",
      "22\t2171\t0.0\t2\t1901 231 39\n",
      "23\t2085\t0.0\t2\t1837 215 33\n",
      "24\t2243\t0.0\t2\t1925 254 64\n",
      "25\t2155\t0.0\t2\t1854 249 52\n",
      "26\t2182\t0.0\t2\t1898 236 48\n",
      "27\t2005\t0.0\t2\t1705 239 56 5\n",
      "28\t2047\t0.0\t2\t1763 240 38 6\n",
      "29\t2113\t0.0\t2\t1807 255 46 5\n",
      "30\t2084\t0.0\t3\t1777 249 44 14\n",
      "31\t1997\t0.0\t3\t1721 217 45 14\n",
      "32\t1867\t0.0\t3\t1572 230 55 10\n",
      "33\t2012\t0.0\t3\t1685 248 62 17\n",
      "34\t1915\t0.0\t3\t1610 236 49 20\n",
      "35\t1774\t0.0\t3\t1487 222 56 9\n",
      "36\t1869\t0.0\t3\t1562 255 42 10\n",
      "37\t1882\t0.0\t3\t1577 248 46 11\n",
      "38\t1772\t0.0\t3\t1499 214 46 13\n",
      "39\t1770\t0.0\t3\t1544 175 46 5\n",
      "40\t1806\t0.0\t3\t1548 217 31 10\n",
      "41\t1747\t0.0\t3\t1508 185 46 8\n",
      "42\t1776\t0.0\t3\t1498 216 48 14\n",
      "43\t1739\t0.0\t3\t1492 196 38 13\n",
      "44\t1735\t0.0\t3\t1489 205 34 7\n",
      "45\t1746\t0.0\t3\t1501 191 43 11\n",
      "46\t1620\t0.0\t3\t1420 159 33 8\n",
      "47\t1552\t0.0\t3\t1360 163 25 4\n",
      "48\t1601\t0.0\t3\t1400 173 20 8\n",
      "49\t1542\t0.0\t3\t1335 167 32 8\n",
      "50\t1674\t0.0\t3\t1472 163 32 7\n",
      "51\t1533\t0.0\t3\t1318 186 21 8\n",
      "52\t1632\t0.0\t3\t1432 172 25 3\n",
      "53\t1626\t0.0\t3\t1438 148 32 8\n",
      "54\t1376\t0.0\t3\t1217 123 30 6\n",
      "55\t1540\t0.0\t3\t1332 177 23 8\n",
      "56\t1500\t0.0\t3\t1324 144 26 6\n",
      "57\t1402\t0.0\t3\t1232 135 27 8\n",
      "58\t1446\t0.0\t3\t1290 125 29 2\n",
      "59\t1341\t0.0\t3\t1184 126 26 5\n",
      "60\t1253\t0.0\t3\t1113 111 23 6\n",
      "61\t1309\t0.0\t3\t1173 109 23 4\n",
      "62\t1464\t0.0\t3\t1298 127 32 7\n",
      "63\t1241\t0.0\t3\t1114 99 23 5\n",
      "64\t1269\t0.0\t3\t1135 100 23 11\n",
      "65\t1193\t0.0\t3\t1064 106 19 4\n",
      "66\t1252\t0.0\t3\t1117 110 20 5\n",
      "67\t1167\t0.0\t3\t1057 90 12 8\n",
      "68\t1240\t0.0\t3\t1121 94 20 5\n",
      "69\t1172\t0.0\t3\t1054 97 17 4\n",
      "70\t1218\t0.0\t3\t1105 85 21 7\n",
      "71\t1173\t0.0\t3\t1054 94 17 8\n",
      "72\t1125\t0.0\t3\t1016 83 23 3\n",
      "73\t1159\t0.0\t3\t1037 95 19 8\n",
      "74\t1101\t0.0\t3\t987 92 19 3\n",
      "75\t1074\t0.0\t3\t974 78 15 7\n",
      "76\t1097\t0.0\t3\t1000 76 17 4\n",
      "77\t1096\t0.0\t3\t993 81 19 3\n",
      "78\t974\t0.0\t3\t882 71 16 5\n",
      "79\t1005\t0.0\t3\t932 53 16 4\n",
      "80\t1001\t0.0\t3\t893 90 13 5\n",
      "81\t995\t0.0\t3\t910 69 12 4\n",
      "82\t993\t0.0\t3\t897 81 14 1\n",
      "83\t919\t0.0\t3\t854 47 12 6\n",
      "84\t891\t0.0\t3\t814 61 12 4\n",
      "85\t949\t0.0\t3\t873 60 16\n",
      "86\t853\t0.0\t3\t779 65 7 2\n",
      "87\t930\t0.0\t3\t854 66 9 1\n",
      "88\t924\t0.0\t3\t833 75 14 2\n",
      "89\t842\t0.0\t3\t753 77 9 3\n",
      "90\t930\t0.0\t3\t853 63 13 1\n",
      "91\t836\t0.0\t3\t766 54 15 1\n",
      "92\t800\t0.0\t3\t733 50 13 4\n",
      "93\t822\t0.0\t3\t754 59 6 3\n",
      "94\t784\t0.0\t3\t720 53 9 2\n",
      "95\t798\t0.0\t3\t723 60 13 2\n",
      "96\t769\t0.0\t3\t714 39 9 7\n",
      "97\t745\t0.0\t3\t686 48 8 3\n",
      "98\t750\t0.0\t3\t684 48 17 1\n",
      "99\t709\t0.0\t3\t658 41 8 2\n",
      "100\t728\t0.0\t3\t679 39 7 3\n",
      "101\t717\t0.0\t3\t666 39 11 1\n",
      "102\t750\t0.0\t3\t686 52 10 2\n",
      "103\t653\t0.0\t3\t612 33 8\n",
      "104\t703\t0.0\t3\t655 37 10 1\n",
      "105\t632\t0.0\t3\t589 34 7 2\n",
      "106\t636\t0.0\t3\t596 34 6\n",
      "107\t619\t0.0\t3\t575 41 2 1\n",
      "108\t598\t0.0\t3\t557 35 6\n",
      "109\t641\t0.0\t3\t597 39 4 1\n",
      "110\t598\t0.0\t3\t550 35 12 1\n",
      "111\t572\t0.0\t3\t536 26 9 1\n",
      "112\t574\t0.0\t3\t528 39 5 2\n",
      "113\t579\t0.0\t3\t536 35 8\n",
      "114\t534\t0.0\t3\t506 25 3\n",
      "115\t539\t0.0\t3\t503 28 7 1\n",
      "116\t474\t0.0\t3\t433 30 10 1\n",
      "117\t534\t0.0\t3\t495 34 4 1\n",
      "118\t451\t0.0\t3\t421 25 3 2\n",
      "119\t543\t0.0\t3\t494 39 9 1\n",
      "120\t458\t0.0\t3\t423 27 6 2\n",
      "121\t479\t0.0\t3\t448 25 6\n",
      "122\t455\t0.0\t3\t425 21 9\n",
      "123\t418\t0.0\t3\t386 27 5\n",
      "124\t438\t0.0\t3\t414 18 5 1\n",
      "125\t416\t0.0\t3\t395 17 3 1\n",
      "126\t421\t0.0\t3\t398 17 5 1\n",
      "127\t409\t0.0\t3\t388 19 2\n",
      "128\t414\t0.0\t3\t395 15 1 3\n",
      "129\t418\t0.0\t3\t396 18 4\n",
      "130\t405\t0.0\t3\t379 25 1\n",
      "131\t403\t0.0\t3\t375 22 3 3\n",
      "132\t391\t0.0\t3\t361 23 7\n",
      "133\t364\t0.0\t3\t347 14 3\n",
      "134\t374\t0.0\t3\t354 16 3 1\n",
      "135\t334\t0.0\t3\t319 9 5 1\n",
      "136\t311\t0.0\t3\t287 20 4\n",
      "137\t337\t0.0\t3\t322 12 2 1\n",
      "138\t336\t0.0\t3\t321 13 1 1\n",
      "139\t317\t0.0\t3\t298 17 1 1\n",
      "140\t326\t0.0\t3\t308 16 2\n",
      "141\t313\t0.0\t3\t291 17 5\n",
      "142\t278\t0.0\t3\t262 11 4 1\n",
      "143\t322\t0.0\t3\t300 22\n",
      "144\t296\t0.0\t3\t274 17 4 1\n",
      "145\t252\t0.0\t3\t238 9 5\n",
      "146\t294\t0.0\t3\t278 16\n",
      "147\t310\t0.0\t3\t294 14 1 1\n",
      "148\t269\t0.0\t3\t250 15 3 1\n",
      "149\t245\t0.0\t3\t233 9 3\n",
      "150\t234\t0.0\t3\t222 10 2\n",
      "151\t255\t0.0\t3\t241 10 3 1\n",
      "152\t207\t0.0\t3\t194 7 4 2\n",
      "153\t267\t0.0\t3\t256 10 1\n",
      "154\t242\t0.0\t3\t223 10 6 3\n",
      "155\t239\t0.0\t3\t230 6 3\n",
      "156\t212\t0.0\t3\t198 11 2 1\n",
      "157\t231\t0.0\t3\t222 5 4\n",
      "158\t202\t0.0\t3\t194 8\n",
      "159\t181\t0.0\t3\t172 8 1\n",
      "160\t216\t0.0\t3\t199 13 3 1\n",
      "161\t203\t0.0\t3\t193 7 3\n",
      "162\t212\t0.0\t3\t201 8 2 1\n",
      "163\t185\t0.0\t3\t179 5 1\n",
      "164\t189\t0.0\t3\t174 10 4 1\n",
      "165\t187\t0.0\t3\t173 14\n",
      "166\t166\t0.0\t3\t156 8 2\n",
      "167\t161\t0.0\t3\t152 5 3 1\n",
      "168\t169\t0.0\t3\t162 7\n",
      "169\t152\t0.0\t3\t143 6 3\n",
      "170\t155\t0.0\t3\t149 6\n",
      "171\t130\t0.0\t3\t127 3\n",
      "172\t144\t0.0\t3\t141 3\n",
      "173\t165\t0.0\t3\t158 4 2 1\n",
      "174\t123\t0.0\t3\t119 4\n",
      "175\t143\t0.0\t3\t138 4 1\n",
      "176\t130\t0.0\t3\t123 5 2\n",
      "177\t126\t0.0\t3\t120 5 1\n",
      "178\t121\t0.0\t3\t116 4 1\n",
      "179\t137\t0.0\t3\t132 3 1 1\n",
      "180\t105\t0.0\t3\t98 7\n",
      "181\t99\t0.0\t3\t94 4 1\n",
      "182\t109\t0.0\t3\t105 4\n",
      "183\t116\t0.0\t3\t110 6\n",
      "184\t113\t0.0\t3\t108 4 1\n",
      "185\t96\t0.0\t3\t93 1 2\n",
      "186\t109\t0.0\t3\t102 5 2\n",
      "187\t106\t0.0\t3\t101 4 1\n",
      "188\t98\t0.0\t3\t93 5\n",
      "189\t92\t0.0\t3\t88 4\n",
      "190\t100\t0.0\t3\t97 3\n",
      "191\t94\t0.0\t3\t87 7\n",
      "192\t85\t0.0\t3\t80 5\n",
      "193\t85\t0.0\t3\t83 2\n",
      "194\t93\t0.0\t3\t89 4\n",
      "195\t79\t0.0\t3\t77 0 2\n",
      "196\t64\t0.0\t3\t62 1 0 1\n",
      "197\t61\t0.0\t3\t59 2\n",
      "198\t75\t0.0\t3\t73 2\n",
      "199\t83\t0.0\t3\t78 5\n",
      "200\t64\t0.0\t3\t62 1 1\n",
      "201\t66\t0.0\t3\t62 4\n",
      "202\t66\t0.0\t3\t61 3 2\n",
      "203\t60\t0.0\t3\t55 4 1\n",
      "204\t67\t0.0\t3\t63 2 1 1\n",
      "205\t51\t0.0\t3\t49 2\n",
      "206\t58\t0.0\t3\t57 1\n",
      "207\t56\t0.0\t3\t55 1\n",
      "208\t55\t0.0\t3\t52 3\n",
      "209\t58\t0.0\t3\t55 1 1 1\n",
      "210\t57\t0.0\t3\t54 2 1\n",
      "211\t54\t0.0\t3\t54\n",
      "212\t43\t0.0\t3\t41 2\n",
      "213\t49\t0.0\t3\t47 2\n",
      "214\t34\t0.0\t3\t34\n",
      "215\t40\t0.0\t3\t37 2 1\n",
      "bash ./cutadapt/cutadapt_adapters_single.R1.sh  12.58s user 1.34s system 97% cpu 14.241 total\n"
     ]
    }
   ],
   "source": [
    "!time bash ./cutadapt/cutadapt_adapters_single.R1.sh"
   ]
  },
  {
   "cell_type": "code",
   "execution_count": 39,
   "metadata": {
    "scrolled": false
   },
   "outputs": [
    {
     "name": "stdout",
     "output_type": "stream",
     "text": [
      "all reads:\n",
      "count    952102.000000\n",
      "mean          0.160338\n",
      "std           1.387019\n",
      "min           0.000000\n",
      "25%           0.000000\n",
      "50%           0.000000\n",
      "75%           0.000000\n",
      "max         185.000000\n",
      "Name: o_minus_e, dtype: float64\n",
      "\n",
      "reads containing adapters:\n",
      "0    757712\n",
      "1    194390\n",
      "Name: contaminated, dtype: int64\n",
      "\n",
      "reads containing missed adapters:\n",
      "0    926097\n",
      "1     26005\n",
      "Name: missed_id, dtype: int64\n",
      "\n",
      "reads containing falsely-identified adapters:\n",
      "0    952102\n",
      "Name: false_id, dtype: int64\n",
      "\n",
      "misidentified reads:\n",
      "count    26005.000000\n",
      "mean         5.870333\n",
      "std          6.075959\n",
      "min          1.000000\n",
      "25%          3.000000\n",
      "50%          5.000000\n",
      "75%          8.000000\n",
      "max        185.000000\n",
      "Name: o_minus_e, dtype: float64\n"
     ]
    }
   ],
   "source": [
    "!python3 ../scripts/single_check_simulated_lengths.py ./cutadapt/cutadapt_combined.R1.fastq ./demultiplexed/combined.R1.fastq 8 cutadapt_R1 5\n"
   ]
  },
  {
   "cell_type": "code",
   "execution_count": 40,
   "metadata": {},
   "outputs": [
    {
     "data": {
      "image/png": "[encoded data removed]",
      "text/plain": [
       "<Figure size 720x360 with 1 Axes>"
      ]
     },
     "metadata": {
      "needs_background": "light"
     },
     "output_type": "display_data"
    }
   ],
   "source": [
    "import pandas as pd\n",
    "import matplotlib.pyplot as plt\n",
    "\n",
    "df = pd.read_csv('cutadapt_R1_misses.csv')\n",
    "binrange = max(df['o_minus_e']) - min(df['o_minus_e'])\n",
    "ax = df['o_minus_e'].hist(bins=binrange, figsize=(10,5))\n",
    "plt.suptitle('Cutadapt Performance as Counts of Distance from Known Adapter Position\\n(Simulated R1 with minimum overlap of 12 bp; single adapter)')\n",
    "ax.set_xlabel('Distance (bp) from known adapter position')\n",
    "fig = ax.get_figure()\n",
    "fig.savefig('single_cutadapt_R1_misses.pdf')"
   ]
  },
  {
   "cell_type": "code",
   "execution_count": 41,
   "metadata": {
    "scrolled": true
   },
   "outputs": [
    {
     "name": "stdout",
     "output_type": "stream",
     "text": [
      "head: ./cutadapt/cutadapt_adapters.R2.sh: No such file or directory\r\n"
     ]
    }
   ],
   "source": [
    "!ln -fs ../demultiplexed/combined.R2.fastq ./cutadapt/\n",
    "!ln -fs ../../../../resources/adapters/miseq_mwanga/miseq_mwanga_no_RE/tool_comparisons/cutadapt_adapters_single.R2.sh ./cutadapt/\n",
    "\n",
    "!head -n 5 ./cutadapt/cutadapt_adapters.R2.sh"
   ]
  },
  {
   "cell_type": "code",
   "execution_count": 42,
   "metadata": {
    "scrolled": true
   },
   "outputs": [
    {
     "name": "stdout",
     "output_type": "stream",
     "text": [
      "This is cutadapt 3.1 with Python 3.8.6\n",
      "Command line parameters: --minimum-length 0 -a AGATCGGAAGAGCGTCGTGTAGGGAAAGAGTGT;min_overlap=12 -o ./cutadapt/cutadapt_combined.R2.fastq ./cutadapt/combined.R2.fastq\n",
      "Processing reads on 1 core in single-end mode ...\n",
      "[      8<----] 00:00:13       952,102 reads  @     14.2 µs/read;   4.22 M reads/minute\n",
      "Finished in 13.56 s (14 µs/read; 4.21 M reads/minute).\n",
      "\n",
      "=== Summary ===\n",
      "\n",
      "Total reads processed:                 952,102\n",
      "Reads with adapters:                   165,336 (17.4%)\n",
      "Reads that were too short:                   0 (0.0%)\n",
      "Reads written (passing filters):       952,102 (100.0%)\n",
      "\n",
      "Total basepairs processed:   224,218,317 bp\n",
      "Total written (filtered):    213,827,537 bp (95.4%)\n",
      "\n",
      "=== Adapter 1 ===\n",
      "\n",
      "Sequence: AGATCGGAAGAGCGTCGTGTAGGGAAAGAGTGT; Type: regular 3'; Length: 33; Trimmed: 165336 times\n",
      "\n",
      "No. of allowed errors:\n",
      "1-9 bp: 0; 10-19 bp: 1; 20-29 bp: 2; 30-33 bp: 3\n",
      "\n",
      "Bases preceding removed adapters:\n",
      "  A: 24.1%\n",
      "  C: 26.0%\n",
      "  G: 25.0%\n",
      "  T: 24.9%\n",
      "  none/other: 0.0%\n",
      "\n",
      "Overview of removed sequences\n",
      "length\tcount\texpect\tmax.err\terror counts\n",
      "11\t2279\t0.2\t1\t0 2279\n",
      "12\t2521\t0.1\t1\t2263 258\n",
      "13\t2477\t0.0\t1\t2199 278\n",
      "14\t2373\t0.0\t1\t2127 246\n",
      "15\t2166\t0.0\t1\t1879 287\n",
      "16\t2315\t0.0\t1\t1998 317\n",
      "17\t2349\t0.0\t1\t2041 308\n",
      "18\t2287\t0.0\t1\t1948 322 17\n",
      "19\t2330\t0.0\t1\t2003 312 15\n",
      "20\t2307\t0.0\t2\t1897 333 77\n",
      "21\t2237\t0.0\t2\t1851 335 51\n",
      "22\t2168\t0.0\t2\t1785 327 56\n",
      "23\t2079\t0.0\t2\t1702 313 64\n",
      "24\t2236\t0.0\t2\t1813 354 69\n",
      "25\t2151\t0.0\t2\t1723 369 59\n",
      "26\t2178\t0.0\t2\t1714 371 93\n",
      "27\t2013\t0.0\t2\t1605 316 92\n",
      "28\t2049\t0.0\t2\t1603 343 89 14\n",
      "29\t2102\t0.0\t2\t1627 373 98 4\n",
      "30\t2085\t0.0\t3\t1588 384 87 26\n",
      "31\t1992\t0.0\t3\t1550 333 92 17\n",
      "32\t1866\t0.0\t3\t1419 359 69 19\n",
      "33\t2013\t0.0\t3\t1541 370 81 21\n",
      "34\t1914\t0.0\t3\t1500 311 79 24\n",
      "35\t1766\t0.0\t3\t1362 315 68 21\n",
      "36\t1868\t0.0\t3\t1441 311 89 27\n",
      "37\t1878\t0.0\t3\t1440 323 98 17\n",
      "38\t1769\t0.0\t3\t1388 272 91 18\n",
      "39\t1767\t0.0\t3\t1339 332 76 20\n",
      "40\t1807\t0.0\t3\t1400 324 68 15\n",
      "41\t1739\t0.0\t3\t1349 314 63 13\n",
      "42\t1774\t0.0\t3\t1379 298 75 22\n",
      "43\t1739\t0.0\t3\t1337 307 78 17\n",
      "44\t1732\t0.0\t3\t1364 283 67 18\n",
      "45\t1745\t0.0\t3\t1375 277 76 17\n",
      "46\t1620\t0.0\t3\t1247 278 77 18\n",
      "47\t1550\t0.0\t3\t1240 246 50 14\n",
      "48\t1596\t0.0\t3\t1260 271 56 9\n",
      "49\t1538\t0.0\t3\t1227 238 56 17\n",
      "50\t1677\t0.0\t3\t1344 261 57 15\n",
      "51\t1535\t0.0\t3\t1210 248 60 17\n",
      "52\t1634\t0.0\t3\t1292 272 56 14\n",
      "53\t1624\t0.0\t3\t1326 238 46 14\n",
      "54\t1376\t0.0\t3\t1091 224 54 7\n",
      "55\t1538\t0.0\t3\t1254 227 48 9\n",
      "56\t1498\t0.0\t3\t1173 250 60 15\n",
      "57\t1403\t0.0\t3\t1141 202 51 9\n",
      "58\t1445\t0.0\t3\t1180 209 46 10\n",
      "59\t1339\t0.0\t3\t1071 217 45 6\n",
      "60\t1252\t0.0\t3\t1032 178 34 8\n",
      "61\t1310\t0.0\t3\t1066 191 47 6\n",
      "62\t1463\t0.0\t3\t1202 204 43 14\n",
      "63\t1241\t0.0\t3\t1021 174 35 11\n",
      "64\t1273\t0.0\t3\t1030 191 43 9\n",
      "65\t1191\t0.0\t3\t974 171 36 10\n",
      "66\t1252\t0.0\t3\t1042 166 34 10\n",
      "67\t1166\t0.0\t3\t938 179 41 8\n",
      "68\t1236\t0.0\t3\t1007 183 33 13\n",
      "69\t1169\t0.0\t3\t985 144 34 6\n",
      "70\t1220\t0.0\t3\t1032 149 31 8\n",
      "71\t1174\t0.0\t3\t968 154 45 7\n",
      "72\t1125\t0.0\t3\t938 150 30 7\n",
      "73\t1161\t0.0\t3\t962 157 34 8\n",
      "74\t1100\t0.0\t3\t924 133 33 10\n",
      "75\t1074\t0.0\t3\t913 128 26 7\n",
      "76\t1097\t0.0\t3\t886 162 41 8\n",
      "77\t1096\t0.0\t3\t935 134 24 3\n",
      "78\t974\t0.0\t3\t830 106 27 11\n",
      "79\t1005\t0.0\t3\t843 123 34 5\n",
      "80\t999\t0.0\t3\t822 144 26 7\n",
      "81\t993\t0.0\t3\t853 102 30 8\n",
      "82\t992\t0.0\t3\t843 113 28 8\n",
      "83\t920\t0.0\t3\t791 109 13 7\n",
      "84\t889\t0.0\t3\t765 95 25 4\n",
      "85\t947\t0.0\t3\t815 106 22 4\n",
      "86\t851\t0.0\t3\t716 111 22 2\n",
      "87\t930\t0.0\t3\t786 109 28 7\n",
      "88\t923\t0.0\t3\t792 98 22 11\n",
      "89\t840\t0.0\t3\t716 100 18 6\n",
      "90\t929\t0.0\t3\t814 89 23 3\n",
      "91\t836\t0.0\t3\t736 81 16 3\n",
      "92\t798\t0.0\t3\t670 106 17 5\n",
      "93\t821\t0.0\t3\t695 106 17 3\n",
      "94\t785\t0.0\t3\t659 98 23 5\n",
      "95\t798\t0.0\t3\t693 80 17 8\n",
      "96\t770\t0.0\t3\t669 74 21 6\n",
      "97\t744\t0.0\t3\t637 78 21 8\n",
      "98\t751\t0.0\t3\t659 70 18 4\n",
      "99\t707\t0.0\t3\t602 86 14 5\n",
      "100\t729\t0.0\t3\t652 58 16 3\n",
      "101\t716\t0.0\t3\t616 80 15 5\n",
      "102\t750\t0.0\t3\t642 84 19 5\n",
      "103\t654\t0.0\t3\t570 66 13 5\n",
      "104\t703\t0.0\t3\t605 76 19 3\n",
      "105\t631\t0.0\t3\t558 51 17 5\n",
      "106\t635\t0.0\t3\t543 70 18 4\n",
      "107\t618\t0.0\t3\t524 76 14 4\n",
      "108\t596\t0.0\t3\t529 56 7 4\n",
      "109\t642\t0.0\t3\t551 79 10 2\n",
      "110\t598\t0.0\t3\t521 63 12 2\n",
      "111\t572\t0.0\t3\t502 53 13 4\n",
      "112\t575\t0.0\t3\t505 49 21\n",
      "113\t577\t0.0\t3\t517 48 10 2\n",
      "114\t535\t0.0\t3\t469 53 9 4\n",
      "115\t537\t0.0\t3\t464 54 17 2\n",
      "116\t473\t0.0\t3\t396 63 11 3\n",
      "117\t533\t0.0\t3\t466 51 13 3\n",
      "118\t451\t0.0\t3\t394 47 10\n",
      "119\t544\t0.0\t3\t480 47 14 3\n",
      "120\t457\t0.0\t3\t401 45 9 2\n",
      "121\t479\t0.0\t3\t430 34 14 1\n",
      "122\t456\t0.0\t3\t390 44 15 7\n",
      "123\t418\t0.0\t3\t356 50 8 4\n",
      "124\t437\t0.0\t3\t379 42 13 3\n",
      "125\t414\t0.0\t3\t357 48 6 3\n",
      "126\t421\t0.0\t3\t377 35 9\n",
      "127\t409\t0.0\t3\t363 38 6 2\n",
      "128\t413\t0.0\t3\t357 45 7 4\n",
      "129\t418\t0.0\t3\t372 36 7 3\n",
      "130\t405\t0.0\t3\t356 35 11 3\n",
      "131\t403\t0.0\t3\t359 35 5 4\n",
      "132\t390\t0.0\t3\t333 48 8 1\n",
      "133\t366\t0.0\t3\t330 26 7 3\n",
      "134\t374\t0.0\t3\t327 36 11\n",
      "135\t334\t0.0\t3\t296 32 5 1\n",
      "136\t309\t0.0\t3\t282 22 3 2\n",
      "137\t337\t0.0\t3\t295 35 4 3\n",
      "138\t336\t0.0\t3\t306 24 6\n",
      "139\t317\t0.0\t3\t280 30 6 1\n",
      "140\t326\t0.0\t3\t290 28 7 1\n",
      "141\t313\t0.0\t3\t280 26 6 1\n",
      "142\t278\t0.0\t3\t243 28 6 1\n",
      "143\t322\t0.0\t3\t297 19 5 1\n",
      "144\t296\t0.0\t3\t265 22 9\n",
      "145\t252\t0.0\t3\t218 29 3 2\n",
      "146\t293\t0.0\t3\t258 28 5 2\n",
      "147\t310\t0.0\t3\t273 33 4\n",
      "148\t269\t0.0\t3\t237 26 6\n",
      "149\t245\t0.0\t3\t214 25 6\n",
      "150\t236\t0.0\t3\t210 22 3 1\n",
      "151\t256\t0.0\t3\t226 25 5\n",
      "152\t207\t0.0\t3\t190 12 5\n",
      "153\t267\t0.0\t3\t228 29 9 1\n",
      "154\t243\t0.0\t3\t218 19 6\n",
      "155\t239\t0.0\t3\t217 19 3\n",
      "156\t211\t0.0\t3\t186 19 5 1\n",
      "157\t230\t0.0\t3\t196 25 7 2\n",
      "158\t202\t0.0\t3\t181 17 3 1\n",
      "159\t181\t0.0\t3\t162 18 0 1\n",
      "160\t215\t0.0\t3\t197 12 3 3\n",
      "161\t202\t0.0\t3\t177 20 4 1\n",
      "162\t211\t0.0\t3\t179 24 5 3\n",
      "163\t185\t0.0\t3\t162 19 3 1\n",
      "164\t189\t0.0\t3\t169 15 5\n",
      "165\t188\t0.0\t3\t160 25 3\n",
      "166\t166\t0.0\t3\t149 16 0 1\n",
      "167\t161\t0.0\t3\t142 16 3\n",
      "168\t170\t0.0\t3\t154 14 1 1\n",
      "169\t152\t0.0\t3\t136 11 5\n",
      "170\t155\t0.0\t3\t131 19 5\n",
      "171\t130\t0.0\t3\t119 7 4\n",
      "172\t144\t0.0\t3\t128 11 5\n",
      "173\t165\t0.0\t3\t146 18 1\n",
      "174\t123\t0.0\t3\t107 13 3\n",
      "175\t144\t0.0\t3\t116 21 7\n",
      "176\t130\t0.0\t3\t111 18 1\n",
      "177\t126\t0.0\t3\t113 11 1 1\n",
      "178\t121\t0.0\t3\t106 13 2\n",
      "179\t136\t0.0\t3\t123 9 4\n",
      "180\t105\t0.0\t3\t85 18 2\n",
      "181\t99\t0.0\t3\t88 8 2 1\n",
      "182\t109\t0.0\t3\t105 3 1\n",
      "183\t116\t0.0\t3\t103 10 3\n",
      "184\t113\t0.0\t3\t99 11 3\n",
      "185\t97\t0.0\t3\t79 15 3\n",
      "186\t109\t0.0\t3\t86 20 2 1\n",
      "187\t106\t0.0\t3\t91 13 2\n",
      "188\t98\t0.0\t3\t82 11 3 2\n",
      "189\t92\t0.0\t3\t80 9 1 2\n",
      "190\t100\t0.0\t3\t90 10\n",
      "191\t94\t0.0\t3\t82 8 4\n",
      "192\t85\t0.0\t3\t74 8 3\n",
      "193\t85\t0.0\t3\t72 12 1\n",
      "194\t93\t0.0\t3\t76 17\n",
      "195\t79\t0.0\t3\t69 9 1\n",
      "196\t64\t0.0\t3\t54 10\n",
      "197\t61\t0.0\t3\t54 6 0 1\n",
      "198\t75\t0.0\t3\t59 10 2 4\n",
      "199\t83\t0.0\t3\t69 12 2\n",
      "200\t64\t0.0\t3\t57 6 1\n",
      "201\t66\t0.0\t3\t63 1 2\n",
      "202\t66\t0.0\t3\t61 5\n",
      "203\t60\t0.0\t3\t55 4 1\n",
      "204\t67\t0.0\t3\t59 7 0 1\n",
      "205\t50\t0.0\t3\t43 7\n",
      "206\t58\t0.0\t3\t51 7\n",
      "207\t56\t0.0\t3\t49 6 1\n",
      "208\t55\t0.0\t3\t47 8\n",
      "209\t58\t0.0\t3\t49 8 0 1\n",
      "210\t57\t0.0\t3\t52 5\n",
      "211\t54\t0.0\t3\t50 3 1\n",
      "212\t43\t0.0\t3\t41 2\n",
      "213\t49\t0.0\t3\t38 10 1\n",
      "214\t33\t0.0\t3\t31 2\n",
      "215\t40\t0.0\t3\t34 6\n",
      "bash ./cutadapt/cutadapt_adapters_single.R2.sh  12.29s user 1.31s system 98% cpu 13.841 total\n"
     ]
    }
   ],
   "source": [
    "!time bash ./cutadapt/cutadapt_adapters_single.R2.sh"
   ]
  },
  {
   "cell_type": "code",
   "execution_count": 43,
   "metadata": {
    "scrolled": false
   },
   "outputs": [
    {
     "name": "stdout",
     "output_type": "stream",
     "text": [
      "all reads:\n",
      "count    952102.000000\n",
      "mean          0.169727\n",
      "std           1.563664\n",
      "min           0.000000\n",
      "25%           0.000000\n",
      "50%           0.000000\n",
      "75%           0.000000\n",
      "max         214.000000\n",
      "Name: o_minus_e, dtype: float64\n",
      "\n",
      "reads containing adapters:\n",
      "0    757712\n",
      "1    194390\n",
      "Name: contaminated, dtype: int64\n",
      "\n",
      "reads containing missed adapters:\n",
      "0    925765\n",
      "1     26337\n",
      "Name: missed_id, dtype: int64\n",
      "\n",
      "reads containing falsely-identified adapters:\n",
      "0    952102\n",
      "Name: false_id, dtype: int64\n",
      "\n",
      "misidentified reads:\n",
      "count    26337.000000\n",
      "mean         6.135741\n",
      "std          7.196259\n",
      "min          1.000000\n",
      "25%          3.000000\n",
      "50%          5.000000\n",
      "75%          8.000000\n",
      "max        214.000000\n",
      "Name: o_minus_e, dtype: float64\n"
     ]
    }
   ],
   "source": [
    "!python3 ../scripts/single_check_simulated_lengths.py ./cutadapt/cutadapt_combined.R2.fastq ./demultiplexed/combined.R2.fastq 8 cutadapt_R2 4\n"
   ]
  },
  {
   "cell_type": "code",
   "execution_count": 44,
   "metadata": {},
   "outputs": [
    {
     "data": {
      "image/png": "[encoded data removed]",
      "text/plain": [
       "<Figure size 720x360 with 1 Axes>"
      ]
     },
     "metadata": {
      "needs_background": "light"
     },
     "output_type": "display_data"
    }
   ],
   "source": [
    "import pandas as pd\n",
    "import matplotlib.pyplot as plt\n",
    "\n",
    "df = pd.read_csv('cutadapt_R2_misses.csv')\n",
    "binrange = max(df['o_minus_e']) - min(df['o_minus_e'])\n",
    "ax = df['o_minus_e'].hist(bins=binrange, figsize=(10,5))\n",
    "plt.suptitle('Cutadapt Performance as Counts of Distance from Known Adapter Position\\n(Simulated R2 with minimum overlap of 12 bp; single adapter)')\n",
    "ax.set_xlabel('Distance (bp) from known adapter position')\n",
    "fig = ax.get_figure()\n",
    "fig.savefig('single_cutadapt_R2_misses.pdf')"
   ]
  },
  {
   "cell_type": "code",
   "execution_count": null,
   "metadata": {},
   "outputs": [],
   "source": []
  }
 ],
 "metadata": {
  "kernelspec": {
   "display_name": "Python 3",
   "language": "python",
   "name": "python3"
  },
  "language_info": {
   "codemirror_mode": {
    "name": "ipython",
    "version": 3
   },
   "file_extension": ".py",
   "mimetype": "text/x-python",
   "name": "python",
   "nbconvert_exporter": "python",
   "pygments_lexer": "ipython3",
   "version": "3.8.6"
  }
 },
 "nbformat": 4,
 "nbformat_minor": 4
}
