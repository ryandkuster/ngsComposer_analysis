{
 "cells": [
  {
   "cell_type": "markdown",
   "metadata": {},
   "source": [
    "### create symbolic link to R1 fastq file"
   ]
  },
  {
   "cell_type": "code",
   "execution_count": 1,
   "metadata": {},
   "outputs": [
    {
     "name": "stdout",
     "output_type": "stream",
     "text": [
      "total 8\r\n",
      "lrwxr-xr-x  1 ryankuster  staff    66B Dec 16 12:48 \u001b[35msimulated_R1.fastq\u001b[m\u001b[m -> ../../../raw_data/simulated_reads/miseq_chr1_1M/simulated_R1.fastq\r\n",
      "-rw-r--r--  1 ryankuster  staff   3.1K Dec 16 12:47 vignette_miseq_simulation.ipynb\r\n"
     ]
    }
   ],
   "source": [
    "!ln -fs ../../../raw_data/simulated_reads/miseq_chr1_1M/simulated_R1.fastq\n",
    "\n",
    "!ls -lh"
   ]
  },
  {
   "cell_type": "markdown",
   "metadata": {},
   "source": [
    "### trim buffer sequence from file"
   ]
  },
  {
   "cell_type": "code",
   "execution_count": 2,
   "metadata": {},
   "outputs": [],
   "source": [
    "!python3 ../../../../ngscomposer/tools/scallop.py -r1 simulated_R1.fastq -f 6 -o ../../../raw_data/simulated_reads/miseq_chr1_1M/"
   ]
  },
  {
   "cell_type": "markdown",
   "metadata": {},
   "source": [
    "the barcodes file should contain only forward barcodes, each corresponding name for the output file is identical to the barcode itself"
   ]
  },
  {
   "cell_type": "code",
   "execution_count": 3,
   "metadata": {
    "scrolled": true
   },
   "outputs": [
    {
     "name": "stdout",
     "output_type": "stream",
     "text": [
      "    na\r\n",
      "AACAACC AACAACC\r\n",
      "AACAACGAC   AACAACGAC\r\n",
      "AACACAGAC   AACACAGAC\r\n",
      "AACTGTG AACTGTG\r\n"
     ]
    }
   ],
   "source": [
    "!ln -fs ../../../raw_data/simulated_reads/miseq_chr1_1M/trimmed_se.simulated_R1.fastq\n",
    "!ln -fs ../../../resources/barcodes/empirical_barcodes/empirical_mwanga_miseq_barcodes.txt\n",
    "\n",
    "!head -n 5 empirical_mwanga_miseq_barcodes.txt"
   ]
  },
  {
   "cell_type": "code",
   "execution_count": 4,
   "metadata": {},
   "outputs": [
    {
     "name": "stdout",
     "output_type": "stream",
     "text": [
      "total 8\r\n",
      "lrwxr-xr-x  1 ryankuster  staff    82B Dec 16 12:48 \u001b[35mempirical_mwanga_miseq_barcodes.txt\u001b[m\u001b[m -> ../../../resources/barcodes/empirical_barcodes/empirical_mwanga_miseq_barcodes.txt\r\n",
      "lrwxr-xr-x  1 ryankuster  staff    66B Dec 16 12:48 \u001b[35msimulated_R1.fastq\u001b[m\u001b[m -> ../../../raw_data/simulated_reads/miseq_chr1_1M/simulated_R1.fastq\r\n",
      "lrwxr-xr-x  1 ryankuster  staff    77B Dec 16 12:48 \u001b[35mtrimmed_se.simulated_R1.fastq\u001b[m\u001b[m -> ../../../raw_data/simulated_reads/miseq_chr1_1M/trimmed_se.simulated_R1.fastq\r\n",
      "-rw-r--r--  1 ryankuster  staff   3.1K Dec 16 12:47 vignette_miseq_simulation.ipynb\r\n"
     ]
    }
   ],
   "source": [
    "!ls -lh"
   ]
  },
  {
   "cell_type": "markdown",
   "metadata": {},
   "source": [
    "### run demultiplexing tool (anemone_no_trim)  \n",
    "begin with 0 mismatches and continue through 8  \n",
    "empirical_testing.sh takes 3 stdin inputs:\n",
    "1. trimmed fastq file (begins with barcode)\n",
    "2. barcodes file\n",
    "3. full path to empirical_testing scripts"
   ]
  },
  {
   "cell_type": "code",
   "execution_count": 5,
   "metadata": {
    "scrolled": false
   },
   "outputs": [
    {
     "name": "stdout",
     "output_type": "stream",
     "text": [
      "barcodes defined\n",
      "input defined\n",
      "running 0 mismatch demultiplexing\n",
      "redundant R1 barcodes detected\n",
      "running 1 mismatch demultiplexing\n",
      "redundant R1 barcodes detected\n",
      "running 2 mismatch demultiplexing\n",
      "redundant R1 barcodes detected\n",
      "running 3 mismatch demultiplexing\n",
      "redundant R1 barcodes detected\n",
      "running 4 mismatch demultiplexing\n",
      "redundant R1 barcodes detected\n",
      "running 5 mismatch demultiplexing\n",
      "redundant R1 barcodes detected\n",
      "running 6 mismatch demultiplexing\n",
      "redundant R1 barcodes detected\n",
      "running 7 mismatch demultiplexing\n",
      "redundant R1 barcodes detected\n",
      "running 8 mismatch demultiplexing\n",
      "redundant R1 barcodes detected\n",
      "checking mismatch rates from 0 mismatch\n",
      "checking mismatch rates from 1 mismatch\n",
      "checking mismatch rates from 2 mismatch\n",
      "checking mismatch rates from 3 mismatch\n",
      "checking mismatch rates from 4 mismatch\n",
      "checking mismatch rates from 5 mismatch\n",
      "checking mismatch rates from 6 mismatch\n",
      "checking mismatch rates from 7 mismatch\n",
      "checking mismatch rates from 8 mismatch\n"
     ]
    }
   ],
   "source": [
    "!bash ../scripts/empirical_testing.sh trimmed_se.simulated_R1.fastq empirical_mwanga_miseq_barcodes.txt /Users/ryankuster/github/ngsComposer_analysis/analyses/empirical_barcodes/scripts"
   ]
  },
  {
   "cell_type": "markdown",
   "metadata": {},
   "source": [
    "### run R script to create comparison plot for instrument vs. empircal scores  \n",
    "stdin1 is the current directory  \n",
    "stdin2 is the desired label (platform, typically) for the plot"
   ]
  },
  {
   "cell_type": "code",
   "execution_count": 6,
   "metadata": {
    "scrolled": true
   },
   "outputs": [
    {
     "name": "stdout",
     "output_type": "stream",
     "text": [
      "\n",
      "Attaching package: ‘reshape2’\n",
      "\n",
      "The following objects are masked from ‘package:data.table’:\n",
      "\n",
      "    dcast, melt\n",
      "\n",
      "Warning messages:\n",
      "1: Removed 48 row(s) containing missing values (geom_path). \n",
      "2: Removed 48 row(s) containing missing values (geom_path). \n",
      "3: Removed 48 rows containing missing values (geom_point). \n",
      "4: Removed 48 rows containing missing values (geom_point). \n",
      "Warning messages:\n",
      "1: Removed 48 row(s) containing missing values (geom_path). \n",
      "2: Removed 48 row(s) containing missing values (geom_path). \n",
      "3: Removed 48 rows containing missing values (geom_point). \n",
      "4: Removed 48 rows containing missing values (geom_point). \n",
      "5: Removed 48 rows containing missing values (geom_text_repel). \n",
      "Warning messages:\n",
      "1: Removed 48 row(s) containing missing values (geom_path). \n",
      "2: Removed 48 row(s) containing missing values (geom_path). \n",
      "3: Removed 48 rows containing missing values (geom_point). \n",
      "4: Removed 48 rows containing missing values (geom_point). \n",
      "Warning messages:\n",
      "1: Removed 48 row(s) containing missing values (geom_path). \n",
      "2: Removed 48 row(s) containing missing values (geom_path). \n",
      "3: Removed 48 rows containing missing values (geom_point). \n",
      "4: Removed 48 rows containing missing values (geom_point). \n",
      "5: Removed 48 rows containing missing values (geom_text_repel). \n"
     ]
    }
   ],
   "source": [
    "!Rscript ../scripts/empirical_tests.R ./ MiSeq"
   ]
  },
  {
   "cell_type": "markdown",
   "metadata": {},
   "source": [
    "![title](error_rates.png)"
   ]
  },
  {
   "cell_type": "markdown",
   "metadata": {},
   "source": [
    "![title](error_rates_labelled.png)"
   ]
  }
 ],
 "metadata": {
  "kernelspec": {
   "display_name": "Python 3",
   "language": "python",
   "name": "python3"
  },
  "language_info": {
   "codemirror_mode": {
    "name": "ipython",
    "version": 3
   },
   "file_extension": ".py",
   "mimetype": "text/x-python",
   "name": "python",
   "nbconvert_exporter": "python",
   "pygments_lexer": "ipython3",
   "version": "3.8.6"
  }
 },
 "nbformat": 4,
 "nbformat_minor": 4
}
