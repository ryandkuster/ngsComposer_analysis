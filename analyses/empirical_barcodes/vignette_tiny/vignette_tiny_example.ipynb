{
 "cells": [
  {
   "cell_type": "markdown",
   "metadata": {},
   "source": [
    "### running sample 'tiny' dataset with 10 reads to verify empirical calculations  \n",
    "the barcodes file should contain only forward barcodes, each corresponding name for the output file is identical to the barcode itself"
   ]
  },
  {
   "cell_type": "code",
   "execution_count": 1,
   "metadata": {
    "scrolled": false
   },
   "outputs": [
    {
     "name": "stdout",
     "output_type": "stream",
     "text": [
      "    na\r\n",
      "CATGCATGCA  CATGCATGCA\r\n"
     ]
    }
   ],
   "source": [
    "!head test_barcodes.txt"
   ]
  },
  {
   "cell_type": "markdown",
   "metadata": {},
   "source": [
    "**this fake dataset only has 10 reads**  \n",
    "every read has a 'miscall' in the position corresponding with its number (e.g., read 1 has an error at position 1)  \n",
    "notice also that all q scores are set to ASCII character '5' (corresponding to score 20)  \n",
    "therefore, we expect all instrument scores to be 20, and all empirical scores to be 10 (p=0.10 miscall rate)"
   ]
  },
  {
   "cell_type": "code",
   "execution_count": 2,
   "metadata": {},
   "outputs": [
    {
     "name": "stdout",
     "output_type": "stream",
     "text": [
      "@1\r\n",
      "NATGCATGCANNNNNNNNNNNNNNNNNNNNNNNNNNNNNNNNNN\r\n",
      "+\r\n",
      "55555555555555555555555555555555555555555555\r\n",
      "@2\r\n",
      "CNTGCATGCANNNNNNNNNNNNNNNNNNNNNNNNNNNNNNNNNN\r\n",
      "+\r\n",
      "55555555555555555555555555555555555555555555\r\n"
     ]
    }
   ],
   "source": [
    "!head -n 8 test1.fastq"
   ]
  },
  {
   "cell_type": "markdown",
   "metadata": {},
   "source": [
    "### run demultiplexing tool (anemone_no_trim)  \n",
    "begin with 0 mismatches and continue through 8  \n",
    "empirical_testing.sh takes 3 stdin inputs:\n",
    "1. trimmed fastq file (begins with barcode)\n",
    "2. barcodes file\n",
    "3. full path to empirical_testing scripts"
   ]
  },
  {
   "cell_type": "code",
   "execution_count": 3,
   "metadata": {
    "scrolled": false
   },
   "outputs": [
    {
     "name": "stdout",
     "output_type": "stream",
     "text": [
      "barcodes defined\n",
      "input defined\n",
      "running 0 mismatch demultiplexing\n",
      "running 1 mismatch demultiplexing\n",
      "running 2 mismatch demultiplexing\n",
      "running 3 mismatch demultiplexing\n",
      "running 4 mismatch demultiplexing\n",
      "running 5 mismatch demultiplexing\n",
      "running 6 mismatch demultiplexing\n",
      "running 7 mismatch demultiplexing\n",
      "running 8 mismatch demultiplexing\n",
      "checking mismatch rates from 0 mismatch\n",
      "checking mismatch rates from 1 mismatch\n",
      "checking mismatch rates from 2 mismatch\n",
      "checking mismatch rates from 3 mismatch\n",
      "checking mismatch rates from 4 mismatch\n",
      "checking mismatch rates from 5 mismatch\n",
      "checking mismatch rates from 6 mismatch\n",
      "checking mismatch rates from 7 mismatch\n",
      "checking mismatch rates from 8 mismatch\n"
     ]
    }
   ],
   "source": [
    "!bash ../scripts/empirical_testing.sh test1.fastq test_barcodes.txt /Users/ryankuster/github/ngsComposer_analysis/analyses/empirical_barcodes/scripts"
   ]
  },
  {
   "cell_type": "markdown",
   "metadata": {},
   "source": [
    "### run R script to create comparison plot for instrument vs. empircal scores  \n",
    "stdin1 is the current directory  \n",
    "stdin2 is the desired label (platform, typically) for the plot"
   ]
  },
  {
   "cell_type": "code",
   "execution_count": 4,
   "metadata": {
    "scrolled": true
   },
   "outputs": [
    {
     "name": "stdout",
     "output_type": "stream",
     "text": [
      "\n",
      "Attaching package: ‘reshape2’\n",
      "\n",
      "The following objects are masked from ‘package:data.table’:\n",
      "\n",
      "    dcast, melt\n",
      "\n",
      "Warning messages:\n",
      "1: Removed 40 row(s) containing missing values (geom_path). \n",
      "2: Removed 40 row(s) containing missing values (geom_path). \n",
      "3: Removed 40 rows containing missing values (geom_point). \n",
      "4: Removed 40 rows containing missing values (geom_point). \n",
      "Warning messages:\n",
      "1: Removed 40 row(s) containing missing values (geom_path). \n",
      "2: Removed 40 row(s) containing missing values (geom_path). \n",
      "3: Removed 40 rows containing missing values (geom_point). \n",
      "4: Removed 40 rows containing missing values (geom_point). \n",
      "5: Removed 40 rows containing missing values (geom_text_repel). \n"
     ]
    }
   ],
   "source": [
    "!Rscript ../scripts/empirical_tests.R ./ test1"
   ]
  },
  {
   "cell_type": "markdown",
   "metadata": {},
   "source": [
    "![title](error_rates_labelled.png)"
   ]
  },
  {
   "cell_type": "markdown",
   "metadata": {},
   "source": [
    "the above example does not include errors corresponding to 2+ mismatches  \n",
    "test2.fastq contains 5 reads with 2 'N's ranging from positions 2 through 6"
   ]
  },
  {
   "cell_type": "code",
   "execution_count": 5,
   "metadata": {},
   "outputs": [
    {
     "name": "stdout",
     "output_type": "stream",
     "text": [
      "@1\r\n",
      "NNTGCATGCANNNNNNNNNNNNNNNNNNNNNNNNNNNNNNNNNN\r\n",
      "+\r\n",
      "55555555555555555555555555555555555555555555\r\n",
      "@2\r\n",
      "CNNGCATGCANNNNNNNNNNNNNNNNNNNNNNNNNNNNNNNNNN\r\n",
      "+\r\n",
      "55555555555555555555555555555555555555555555\r\n",
      "@3\r\n",
      "CANNCATGCANNNNNNNNNNNNNNNNNNNNNNNNNNNNNNNNNN\r\n",
      "+\r\n",
      "55555555555555555555555555555555555555555555\r\n",
      "@4\r\n",
      "CATNNATGCANNNNNNNNNNNNNNNNNNNNNNNNNNNNNNNNNN\r\n",
      "+\r\n",
      "55555555555555555555555555555555555555555555\r\n",
      "@5\r\n",
      "CATGNNTGCANNNNNNNNNNNNNNNNNNNNNNNNNNNNNNNNNN\r\n",
      "+\r\n",
      "55555555555555555555555555555555555555555555\r\n"
     ]
    }
   ],
   "source": [
    "!rm -rf *mm *.csv *png\n",
    "\n",
    "!head -n 20 test2.fastq"
   ]
  },
  {
   "cell_type": "code",
   "execution_count": 6,
   "metadata": {
    "scrolled": false
   },
   "outputs": [
    {
     "name": "stdout",
     "output_type": "stream",
     "text": [
      "barcodes defined\n",
      "input defined\n",
      "running 0 mismatch demultiplexing\n",
      "running 1 mismatch demultiplexing\n",
      "running 2 mismatch demultiplexing\n",
      "running 3 mismatch demultiplexing\n",
      "running 4 mismatch demultiplexing\n",
      "running 5 mismatch demultiplexing\n",
      "running 6 mismatch demultiplexing\n",
      "running 7 mismatch demultiplexing\n",
      "running 8 mismatch demultiplexing\n",
      "checking mismatch rates from 0 mismatch\n",
      "checking mismatch rates from 1 mismatch\n",
      "checking mismatch rates from 2 mismatch\n",
      "checking mismatch rates from 3 mismatch\n",
      "checking mismatch rates from 4 mismatch\n",
      "checking mismatch rates from 5 mismatch\n",
      "checking mismatch rates from 6 mismatch\n",
      "checking mismatch rates from 7 mismatch\n",
      "checking mismatch rates from 8 mismatch\n"
     ]
    }
   ],
   "source": [
    "!bash ../scripts/empirical_testing.sh test2.fastq test_barcodes.txt /Users/ryankuster/github/ngsComposer_analysis/analyses/empirical_barcodes/scripts"
   ]
  },
  {
   "cell_type": "markdown",
   "metadata": {},
   "source": [
    "### rerun R script to create comparison plot for instrument vs. empircal scores  \n",
    "stdin1 is the current directory  \n",
    "stdin2 is the desired label (platform, typically) for the plot"
   ]
  },
  {
   "cell_type": "code",
   "execution_count": 7,
   "metadata": {
    "scrolled": false
   },
   "outputs": [
    {
     "name": "stdout",
     "output_type": "stream",
     "text": [
      "\n",
      "Attaching package: ‘reshape2’\n",
      "\n",
      "The following objects are masked from ‘package:data.table’:\n",
      "\n",
      "    dcast, melt\n",
      "\n",
      "Warning messages:\n",
      "1: Removed 40 row(s) containing missing values (geom_path). \n",
      "2: Removed 45 row(s) containing missing values (geom_path). \n",
      "3: Removed 40 rows containing missing values (geom_point). \n",
      "4: Removed 45 rows containing missing values (geom_point). \n",
      "Warning messages:\n",
      "1: Removed 40 row(s) containing missing values (geom_path). \n",
      "2: Removed 45 row(s) containing missing values (geom_path). \n",
      "3: Removed 40 rows containing missing values (geom_point). \n",
      "4: Removed 45 rows containing missing values (geom_point). \n",
      "5: Removed 40 rows containing missing values (geom_text_repel). \n"
     ]
    }
   ],
   "source": [
    "!Rscript ../scripts/empirical_tests.R ./ test2"
   ]
  },
  {
   "cell_type": "markdown",
   "metadata": {},
   "source": [
    "![title](error_rates_labelled.png)"
   ]
  },
  {
   "cell_type": "markdown",
   "metadata": {},
   "source": [
    "- the calculations for position 6 through 10 are slightly lower than 0.10, and 1 through 5 are inf because the reads containing errors at these positions (reads 1 through 5) are not yet included in the calculations, yielding perfect scores (i.e., **-10*log10(0)** )  \n",
    "- after 2 mismatches, the average q scores for positions 2 through 6 becomes -10*log10(0.2) = 6.9"
   ]
  }
 ],
 "metadata": {
  "kernelspec": {
   "display_name": "Python 3",
   "language": "python",
   "name": "python3"
  },
  "language_info": {
   "codemirror_mode": {
    "name": "ipython",
    "version": 3
   },
   "file_extension": ".py",
   "mimetype": "text/x-python",
   "name": "python",
   "nbconvert_exporter": "python",
   "pygments_lexer": "ipython3",
   "version": "3.8.6"
  }
 },
 "nbformat": 4,
 "nbformat_minor": 4
}
