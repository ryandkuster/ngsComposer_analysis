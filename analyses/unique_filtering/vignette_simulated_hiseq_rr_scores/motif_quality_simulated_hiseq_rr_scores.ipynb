{
 "cells": [
  {
   "cell_type": "markdown",
   "metadata": {},
   "source": [
    "### get qc for simulated reads (simulated using hiseq rapid run scores)"
   ]
  },
  {
   "cell_type": "code",
   "execution_count": 1,
   "metadata": {
    "scrolled": true
   },
   "outputs": [
    {
     "name": "stdout",
     "output_type": "stream",
     "text": [
      "total 16\r\n",
      "-rw-r--r--  1 ryankuster  staff   7.5K Dec 28 10:24 motif_quality_simulated_hiseq_rr_scores.ipynb\r\n",
      "lrwxr-xr-x  1 ryankuster  staff    71B Dec 28 10:25 \u001b[35mmwanga_barcodes_combined.txt\u001b[m\u001b[m -> ../../../resources/barcodes/miseq_barcodes/mwanga_barcodes_combined.txt\r\n",
      "lrwxr-xr-x  1 ryankuster  staff    83B Dec 28 10:25 \u001b[35msimulated_R1.fastq\u001b[m\u001b[m -> ../../../raw_data/simulated_reads/chr1_1M_hiseq_rr_score_samples/simulated_R1.fastq\r\n",
      "lrwxr-xr-x  1 ryankuster  staff    83B Dec 28 10:25 \u001b[35msimulated_R2.fastq\u001b[m\u001b[m -> ../../../raw_data/simulated_reads/chr1_1M_hiseq_rr_score_samples/simulated_R2.fastq\r\n"
     ]
    }
   ],
   "source": [
    "!ln -fs ../../../raw_data/simulated_reads/chr1_1M_hiseq_rr_score_samples/simulated_R1.fastq ./\n",
    "!ln -fs ../../../raw_data/simulated_reads/chr1_1M_hiseq_rr_score_samples/simulated_R2.fastq ./\n",
    "!ln -fs ../../../resources/barcodes/miseq_barcodes/mwanga_barcodes_combined.txt\n",
    "\n",
    "!ls -lh"
   ]
  },
  {
   "cell_type": "code",
   "execution_count": 2,
   "metadata": {},
   "outputs": [],
   "source": [
    "!mkdir qc\n",
    "!python3 /Users/ryankuster/github/ngscomposer/tools/crinoid.py -r1 simulated_R1.fastq -o qc\n",
    "!python3 /Users/ryankuster/github/ngscomposer/tools/crinoid.py -r1 simulated_R2.fastq -o qc"
   ]
  },
  {
   "cell_type": "markdown",
   "metadata": {},
   "source": [
    "### demultiplex to create flush-ended reads (beginning with motifs)"
   ]
  },
  {
   "cell_type": "code",
   "execution_count": 3,
   "metadata": {},
   "outputs": [
    {
     "name": "stdout",
     "output_type": "stream",
     "text": [
      "redundant R1 barcodes detected\r\n",
      "redundant R2 barcodes detected\r\n"
     ]
    }
   ],
   "source": [
    "!mkdir demultiplexed\n",
    "\n",
    "!python3 /Users/ryankuster/github/ngscomposer/tools/anemone.py -r1 simulated_R1.fastq -r2 simulated_R2.fastq -f 6 -m 1 -c mwanga_barcodes_combined.txt -o demultiplexed"
   ]
  },
  {
   "cell_type": "code",
   "execution_count": 4,
   "metadata": {},
   "outputs": [],
   "source": [
    "!mkdir ./demultiplexed/qc\n",
    "!python3 /Users/ryankuster/github/ngscomposer/tools/crinoid.py -r1 ./demultiplexed/combined.R1.fastq -o ./demultiplexed/qc\n",
    "!python3 /Users/ryankuster/github/ngscomposer/tools/crinoid.py -r1 ./demultiplexed/combined.R2.fastq -o ./demultiplexed/qc"
   ]
  },
  {
   "cell_type": "markdown",
   "metadata": {},
   "source": [
    "### run rotifer (modified to keep reads without RE motif)"
   ]
  },
  {
   "cell_type": "code",
   "execution_count": 5,
   "metadata": {
    "scrolled": false
   },
   "outputs": [],
   "source": [
    "!mkdir parsed\n",
    "!python3 ../scripts/rotifer_fails.py -r1 ./demultiplexed/combined.R1.fastq -m1 TGCAT -o parsed\n",
    "!python3 ../scripts/rotifer_fails.py -r1 ./demultiplexed/combined.R2.fastq -m1 CATG -o parsed"
   ]
  },
  {
   "cell_type": "markdown",
   "metadata": {},
   "source": [
    "### check qc of failing vs. passing reads"
   ]
  },
  {
   "cell_type": "code",
   "execution_count": 6,
   "metadata": {
    "scrolled": true
   },
   "outputs": [],
   "source": [
    "!mkdir ./parsed/qc\n",
    "!for file in ./parsed/*fastq; do python3 /Users/ryankuster/github/ngscomposer/tools/crinoid.py -r1 $file -o ./parsed/qc ; done"
   ]
  },
  {
   "cell_type": "markdown",
   "metadata": {},
   "source": [
    "R1 - original read q scores after demultiplexing:"
   ]
  },
  {
   "cell_type": "markdown",
   "metadata": {},
   "source": [
    "![title](demultiplexed/qc/qscores.combined.R1.fastq.csv.png)"
   ]
  },
  {
   "cell_type": "markdown",
   "metadata": {},
   "source": [
    "R1 - q scores of reads containing intact RE motif 'TGCAT':"
   ]
  },
  {
   "cell_type": "markdown",
   "metadata": {},
   "source": [
    " ![title](parsed/qc/qscores.se.combined.R1.fastq.csv.png)"
   ]
  },
  {
   "cell_type": "markdown",
   "metadata": {},
   "source": [
    "R1 - q scores of reads without intact RE motif 'TGCAT':"
   ]
  },
  {
   "cell_type": "markdown",
   "metadata": {},
   "source": [
    " ![title](parsed/qc/qscores.failed.combined.R1.fastq.csv.png)"
   ]
  },
  {
   "cell_type": "markdown",
   "metadata": {},
   "source": [
    "R2 - original read q scores after demultiplexing:"
   ]
  },
  {
   "cell_type": "markdown",
   "metadata": {},
   "source": [
    "![title](demultiplexed/qc/qscores.combined.R2.fastq.csv.png)"
   ]
  },
  {
   "cell_type": "markdown",
   "metadata": {},
   "source": [
    "R2 - q scores of reads containing intact RE motif 'TGCAT':"
   ]
  },
  {
   "cell_type": "markdown",
   "metadata": {},
   "source": [
    " ![title](parsed/qc/qscores.se.combined.R2.fastq.csv.png)"
   ]
  },
  {
   "cell_type": "markdown",
   "metadata": {},
   "source": [
    "R2 - q scores of reads without intact RE motif 'TGCAT':"
   ]
  },
  {
   "cell_type": "markdown",
   "metadata": {},
   "source": [
    " ![title](parsed/qc/qscores.failed.combined.R2.fastq.csv.png)"
   ]
  },
  {
   "cell_type": "markdown",
   "metadata": {},
   "source": [
    "### test read compression of passing vs. failing reads (using 'gsed' on macOS Big Sur, use 'sed' on linux)  \n",
    "first, the reads must be the same length for compression, so the final 3 bases are trimmed because variable length barcodes were used"
   ]
  },
  {
   "cell_type": "code",
   "execution_count": 7,
   "metadata": {
    "scrolled": true
   },
   "outputs": [
    {
     "name": "stdout",
     "output_type": "stream",
     "text": [
      "1465 234\r\n",
      "1702 235\r\n",
      "1558 236\r\n",
      "1583 237\r\n"
     ]
    }
   ],
   "source": [
    "!gsed -n '2~4p' ./parsed/failed.combined.R1.fastq | awk '{print length}' | sort | uniq -c"
   ]
  },
  {
   "cell_type": "code",
   "execution_count": 8,
   "metadata": {},
   "outputs": [],
   "source": [
    "!python3 /Users/ryankuster/github/ngscomposer/tools/scallop.py -r1 ./parsed/failed.combined.R1.fastq -b 234\n",
    "!python3 /Users/ryankuster/github/ngscomposer/tools/scallop.py -r1 ./parsed/failed.combined.R2.fastq -b 234\n",
    "!python3 /Users/ryankuster/github/ngscomposer/tools/scallop.py -r1 ./parsed/se.combined.R1.fastq -b 234\n",
    "!python3 /Users/ryankuster/github/ngscomposer/tools/scallop.py -r1 ./parsed/se.combined.R2.fastq -b 234"
   ]
  },
  {
   "cell_type": "markdown",
   "metadata": {},
   "source": [
    "grab only the fastq reads containing the DNA sequences"
   ]
  },
  {
   "cell_type": "code",
   "execution_count": 9,
   "metadata": {},
   "outputs": [],
   "source": [
    "!mkdir unique_reads\n",
    "\n",
    "!gsed -n '2~4p' ./parsed/trimmed_se.failed.combined.R1.fastq > ./unique_reads/ALL.failed.combined.R1.fastq\n",
    "!gsed -n '2~4p' ./parsed/trimmed_se.failed.combined.R2.fastq > ./unique_reads/ALL.failed.combined.R2.fastq\n",
    "!gsed -n '2~4p' ./parsed/trimmed_se.se.combined.R1.fastq > ./unique_reads/ALL.se.combined.R1.fastq\n",
    "!gsed -n '2~4p' ./parsed/trimmed_se.se.combined.R2.fastq > ./unique_reads/ALL.se.combined.R2.fastq"
   ]
  },
  {
   "cell_type": "code",
   "execution_count": 10,
   "metadata": {},
   "outputs": [],
   "source": [
    "!sort ./unique_reads/ALL.failed.combined.R1.fastq | uniq > ./unique_reads/UNIQ.failed.combined.R1.fastq\n",
    "!sort ./unique_reads/ALL.failed.combined.R2.fastq | uniq > ./unique_reads/UNIQ.failed.combined.R2.fastq\n",
    "!sort ./unique_reads/ALL.se.combined.R1.fastq | uniq > ./unique_reads/UNIQ.se.combined.R1.fastq\n",
    "!sort ./unique_reads/ALL.se.combined.R2.fastq | uniq > ./unique_reads/UNIQ.se.combined.R2.fastq"
   ]
  },
  {
   "cell_type": "code",
   "execution_count": 11,
   "metadata": {},
   "outputs": [
    {
     "name": "stdout",
     "output_type": "stream",
     "text": [
      "    6308 ./unique_reads/ALL.failed.combined.R1.fastq\n",
      "  945794 ./unique_reads/ALL.se.combined.R1.fastq\n",
      "    6300 ./unique_reads/UNIQ.failed.combined.R1.fastq\n",
      "  297482 ./unique_reads/UNIQ.se.combined.R1.fastq\n",
      " 1255884 total\n"
     ]
    }
   ],
   "source": [
    "!wc -l ./unique_reads/*R1.fastq"
   ]
  },
  {
   "cell_type": "code",
   "execution_count": 12,
   "metadata": {},
   "outputs": [
    {
     "name": "stdout",
     "output_type": "stream",
     "text": [
      "   17119 ./unique_reads/ALL.failed.combined.R2.fastq\n",
      "  934983 ./unique_reads/ALL.se.combined.R2.fastq\n",
      "   17058 ./unique_reads/UNIQ.failed.combined.R2.fastq\n",
      "  502888 ./unique_reads/UNIQ.se.combined.R2.fastq\n",
      " 1472048 total\n"
     ]
    }
   ],
   "source": [
    "!wc -l ./unique_reads/*R2.fastq"
   ]
  }
 ],
 "metadata": {
  "kernelspec": {
   "display_name": "Python 3",
   "language": "python",
   "name": "python3"
  },
  "language_info": {
   "codemirror_mode": {
    "name": "ipython",
    "version": 3
   },
   "file_extension": ".py",
   "mimetype": "text/x-python",
   "name": "python",
   "nbconvert_exporter": "python",
   "pygments_lexer": "ipython3",
   "version": "3.8.6"
  }
 },
 "nbformat": 4,
 "nbformat_minor": 4
}
